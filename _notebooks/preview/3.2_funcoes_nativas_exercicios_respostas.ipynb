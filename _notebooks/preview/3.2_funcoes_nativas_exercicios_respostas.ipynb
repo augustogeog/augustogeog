{
 "cells": [
  {
   "cell_type": "markdown",
   "metadata": {},
   "source": [
    "## Funções lógico-numéricas"
   ]
  },
  {
   "cell_type": "markdown",
   "metadata": {},
   "source": [
    "Faça o que se pede nas células seguintes:"
   ]
  },
  {
   "cell_type": "code",
   "execution_count": 23,
   "metadata": {
    "ExecuteTime": {
     "end_time": "2020-09-06T13:04:22.324634Z",
     "start_time": "2020-09-06T13:04:22.317558Z"
    }
   },
   "outputs": [],
   "source": [
    "# declare uma lista chamada lista_valores, contendo os valores 25, 25, 10, 0.36, True e False\n",
    "\n",
    "lista_valores = list([25, 25, 10, 0.36, True, False])"
   ]
  },
  {
   "cell_type": "code",
   "execution_count": 24,
   "metadata": {
    "ExecuteTime": {
     "end_time": "2020-09-06T13:04:22.693172Z",
     "start_time": "2020-09-06T13:04:22.687245Z"
    }
   },
   "outputs": [
    {
     "data": {
      "text/plain": [
       "61.36"
      ]
     },
     "execution_count": 24,
     "metadata": {},
     "output_type": "execute_result"
    }
   ],
   "source": [
    "# faça a soma de todos os valores dentro de lista_valores\n",
    "\n",
    "sum(lista_valores)"
   ]
  },
  {
   "cell_type": "code",
   "execution_count": 25,
   "metadata": {
    "ExecuteTime": {
     "end_time": "2020-09-06T13:04:23.330682Z",
     "start_time": "2020-09-06T13:04:23.322120Z"
    }
   },
   "outputs": [
    {
     "data": {
      "text/plain": [
       "False"
      ]
     },
     "execution_count": 25,
     "metadata": {},
     "output_type": "execute_result"
    }
   ],
   "source": [
    "# Use uma função para verificar se todos os valores em lista_valores são verdadeiros\n",
    "\n",
    "all(lista_valores)"
   ]
  },
  {
   "cell_type": "code",
   "execution_count": 26,
   "metadata": {
    "ExecuteTime": {
     "end_time": "2020-09-06T13:04:25.167091Z",
     "start_time": "2020-09-06T13:04:25.161018Z"
    }
   },
   "outputs": [
    {
     "data": {
      "text/plain": [
       "True"
      ]
     },
     "execution_count": 26,
     "metadata": {},
     "output_type": "execute_result"
    }
   ],
   "source": [
    "# Use uma função para verificar se ao menos um valor em lista_valores é verdadeiro\n",
    "\n",
    "any(lista_valores)"
   ]
  },
  {
   "cell_type": "code",
   "execution_count": 27,
   "metadata": {
    "ExecuteTime": {
     "end_time": "2020-09-06T13:04:28.344928Z",
     "start_time": "2020-09-06T13:04:28.337465Z"
    }
   },
   "outputs": [
    {
     "data": {
      "text/plain": [
       "61.4"
      ]
     },
     "execution_count": 27,
     "metadata": {},
     "output_type": "execute_result"
    }
   ],
   "source": [
    "# Arredonde o resultado da soma de todos os valores dentro de lista_valores para uma casa após a vírgula\n",
    "\n",
    "round(sum(lista_valores), 1)"
   ]
  },
  {
   "cell_type": "code",
   "execution_count": 28,
   "metadata": {
    "ExecuteTime": {
     "end_time": "2020-09-06T13:05:04.724938Z",
     "start_time": "2020-09-06T13:05:04.717215Z"
    }
   },
   "outputs": [
    {
     "data": {
      "text/plain": [
       "61"
      ]
     },
     "execution_count": 28,
     "metadata": {},
     "output_type": "execute_result"
    }
   ],
   "source": [
    "# Arredonde o resultado da soma de todos os valores dentro de lista_valores para um valor inteiro\n",
    "\n",
    "round(sum(lista_valores))"
   ]
  },
  {
   "cell_type": "code",
   "execution_count": 29,
   "metadata": {
    "ExecuteTime": {
     "end_time": "2020-09-06T13:07:34.961650Z",
     "start_time": "2020-09-06T13:07:34.955076Z"
    }
   },
   "outputs": [],
   "source": [
    "# Declare a variável almoco_semana com uma lista, contendo os seguintes valores 25, 20, 23, 25, 27, 32\n",
    "\n",
    "almoco_semana = [25, 20, 23, 25, 27, 32]"
   ]
  },
  {
   "cell_type": "code",
   "execution_count": 31,
   "metadata": {
    "ExecuteTime": {
     "end_time": "2020-09-06T13:09:20.111427Z",
     "start_time": "2020-09-06T13:09:20.105242Z"
    }
   },
   "outputs": [
    {
     "data": {
      "text/plain": [
       "25.33"
      ]
     },
     "execution_count": 31,
     "metadata": {},
     "output_type": "execute_result"
    }
   ],
   "source": [
    "# utilizando as funções sum() e len() obtenha a média de gastos com almoço na semana\n",
    "# arredonde o resultado para duas casas decimais\n",
    "\n",
    "round(sum(almoco_semana) / len(almoco_semana), 2)"
   ]
  },
  {
   "cell_type": "markdown",
   "metadata": {},
   "source": [
    "## Funções de ajuda e consulta de objetos"
   ]
  },
  {
   "cell_type": "markdown",
   "metadata": {},
   "source": [
    "Ao se importar um pacote é útil verificar o seu conteúdo, com a função dir(). Assim, faça o que se pede:"
   ]
  },
  {
   "cell_type": "code",
   "execution_count": 34,
   "metadata": {
    "ExecuteTime": {
     "end_time": "2020-09-06T13:11:36.324971Z",
     "start_time": "2020-09-06T13:11:36.319330Z"
    }
   },
   "outputs": [],
   "source": [
    "# execute esta célula\n",
    "import collections"
   ]
  },
  {
   "cell_type": "code",
   "execution_count": 36,
   "metadata": {
    "ExecuteTime": {
     "end_time": "2020-09-06T13:12:13.096088Z",
     "start_time": "2020-09-06T13:12:13.084989Z"
    }
   },
   "outputs": [
    {
     "name": "stdout",
     "output_type": "stream",
     "text": [
      "['AsyncGenerator', 'AsyncIterable', 'AsyncIterator', 'Awaitable', 'ByteString', 'Callable', 'ChainMap', 'Collection', 'Container', 'Coroutine', 'Counter', 'Generator', 'Hashable', 'ItemsView', 'Iterable', 'Iterator', 'KeysView', 'Mapping', 'MappingView', 'MutableMapping', 'MutableSequence', 'MutableSet', 'OrderedDict', 'Reversible', 'Sequence', 'Set', 'Sized', 'UserDict', 'UserList', 'UserString', 'ValuesView', '_Link', '_OrderedDictItemsView', '_OrderedDictKeysView', '_OrderedDictValuesView', '__all__', '__builtins__', '__cached__', '__doc__', '__file__', '__loader__', '__name__', '__package__', '__path__', '__spec__', '_chain', '_class_template', '_collections_abc', '_count_elements', '_eq', '_field_template', '_heapq', '_iskeyword', '_itemgetter', '_proxy', '_recursive_repr', '_repeat', '_repr_template', '_starmap', '_sys', 'abc', 'defaultdict', 'deque', 'namedtuple']\n"
     ]
    }
   ],
   "source": [
    "#imprima o conteúdo de collections\n",
    "\n",
    "print(dir(collections))"
   ]
  },
  {
   "cell_type": "markdown",
   "metadata": {},
   "source": [
    "Faça o que se pede adiante"
   ]
  },
  {
   "cell_type": "code",
   "execution_count": 41,
   "metadata": {
    "ExecuteTime": {
     "end_time": "2020-09-06T13:15:45.642757Z",
     "start_time": "2020-09-06T13:15:45.634477Z"
    }
   },
   "outputs": [
    {
     "name": "stdout",
     "output_type": "stream",
     "text": [
      "Help on built-in function id in module builtins:\n",
      "\n",
      "id(obj, /)\n",
      "    Return the identity of an object.\n",
      "    \n",
      "    This is guaranteed to be unique among simultaneously existing objects.\n",
      "    (CPython uses the object's memory address.)\n",
      "\n"
     ]
    }
   ],
   "source": [
    "# utilize help para obter informações sobre a função id()\n",
    "\n",
    "help(id)"
   ]
  },
  {
   "cell_type": "markdown",
   "metadata": {},
   "source": [
    "## Funções de interatividade com o usuário"
   ]
  },
  {
   "cell_type": "markdown",
   "metadata": {},
   "source": [
    "Python apresenta duas funções muito importantes para interatividade com o usuário, print() e input(). A primeira serve para expor dados para o usuário, enquanto a segunda pode armazenar dados inseridos por ele, que servirão para processamento em nossos programas. Input é o tipo de função que estará por traz daquelas caixas de diálogo em _websites_ ou _apps_ de _smartphones_, a partir dos quais um terceiro, que não tem acesso ao código, pode inserir dados diversos, a partir dos quais os serviços de aplicação podem ser prestados.\n",
    "\n",
    "No Jupyter Notebook, estamos em um ambiente interativo. Assim, se errarmos o valor do input, a célula pode ficar em estado de execução indefinidamente. Por essa razão, se virmos que, ao lado da célula, o asterisco que indica \"em execução\" está presente continuamente ao chamar uma função input, a solução é selecionar o botão stop no topo da página, para interromper o _kernel_, ou seja a unidade de processamento dinâmico do Python para nosso ambiente de programação aqui.  \n",
    "\n",
    "Para vermos as duas ferramentas, input e print, em ação, vamos rodar a célula abaixo e inserir o que ela pedir na caixa de texto. "
   ]
  },
  {
   "cell_type": "code",
   "execution_count": 104,
   "metadata": {
    "ExecuteTime": {
     "end_time": "2020-09-03T17:25:52.241843Z",
     "start_time": "2020-09-03T17:25:48.182927Z"
    }
   },
   "outputs": [
    {
     "name": "stdout",
     "output_type": "stream",
     "text": [
      "insira seu nome completo: Augusto Pereira\n",
      "Olá, Augusto Pereira!\n",
      "eu acho Pereira um belo sobrenome!\n"
     ]
    }
   ],
   "source": [
    "nome = input('insira seu nome completo: ')\n",
    "print('Olá, ' + nome + '!')\n",
    "print('eu acho ' + nome.split()[-1] + ' um belo sobrenome!') #aqui split é um método colocado para separa cada palavra no espaço, a fim de que peguemos a última palavra [-1], que esperamos ser o sobrenome da pessoa"
   ]
  },
  {
   "cell_type": "markdown",
   "metadata": {},
   "source": [
    "Agora temos já conhecimento o suficiente para começarmos a fazer algumas coisas, como cálculo de índice de massa corporal (https://pt.wikipedia.org/wiki/%C3%8Dndice_de_massa_corporal). Não esqueça de lançar os valores com ponto como delimitador de decimais."
   ]
  },
  {
   "cell_type": "code",
   "execution_count": 118,
   "metadata": {
    "ExecuteTime": {
     "end_time": "2020-09-03T17:43:00.341604Z",
     "start_time": "2020-09-03T17:42:12.108184Z"
    }
   },
   "outputs": [
    {
     "name": "stdout",
     "output_type": "stream",
     "text": [
      "Insira seu peso em kg (ex: 73.3): 102.6\n",
      "Insira sua altura em metros (ex: 1.7): 1.82\n",
      "Seu IMC é: 30.97\n"
     ]
    }
   ],
   "source": [
    "peso = float(input('Insira seu peso em kg (ex: 73.3): ')) # Python usa . como delimitador de decimais, não esqueça!\n",
    "altura = float(input('Insira sua altura em metros (ex: 1.7): '))\n",
    "IMC = peso / altura ** 2\n",
    "print('Seu IMC é: ' + str(round(IMC,2))) # + concatena duas strings. IMC, arredondado por round, no entanto, é um número. Logo usamos str() para transformar em string."
   ]
  },
  {
   "cell_type": "code",
   "execution_count": null,
   "metadata": {},
   "outputs": [],
   "source": []
  },
  {
   "cell_type": "code",
   "execution_count": null,
   "metadata": {},
   "outputs": [],
   "source": []
  },
  {
   "cell_type": "code",
   "execution_count": null,
   "metadata": {},
   "outputs": [],
   "source": []
  },
  {
   "cell_type": "code",
   "execution_count": null,
   "metadata": {},
   "outputs": [],
   "source": []
  },
  {
   "cell_type": "code",
   "execution_count": null,
   "metadata": {},
   "outputs": [],
   "source": []
  },
  {
   "cell_type": "markdown",
   "metadata": {},
   "source": [
    "## Funções para consulta e alteração de objetos compostos\n",
    "* Python reversed() - returns the reversed iterator of a sequence\n",
    "* returns the reversed iterator of a sequence\n",
    "* Python slice() returns a slice object\n",
    "* Python sorted() - returns a sorted list from the given iterable\n",
    "* Python len() - Returns Length of an Object\n",
    "* Python max() - returns the largest item\n",
    "* Python min() - returns the smallest value"
   ]
  },
  {
   "cell_type": "markdown",
   "metadata": {},
   "source": [
    "Podemos utilizar reversed para inverter uma determinada sequência. O resultado é um objeto iterador, portanto precisamos transformá-lo em algum objeto composto em sequência, como uma lista. "
   ]
  },
  {
   "cell_type": "code",
   "execution_count": 23,
   "metadata": {
    "ExecuteTime": {
     "end_time": "2020-09-03T20:31:11.569647Z",
     "start_time": "2020-09-03T20:31:11.562006Z"
    }
   },
   "outputs": [
    {
     "name": "stdout",
     "output_type": "stream",
     "text": [
      "['cinco', 'quatro', 'três', 'dois', 'um']\n"
     ]
    }
   ],
   "source": [
    "lista_contagem = ['um', 'dois', 'três', 'quatro', 'cinco']\n",
    "\n",
    "lista_contagem_regressiva = list(reversed(lista_contagem))\n",
    "\n",
    "print(lista_contagem_regressiva)"
   ]
  },
  {
   "cell_type": "code",
   "execution_count": 25,
   "metadata": {
    "ExecuteTime": {
     "end_time": "2020-09-03T20:32:54.204615Z",
     "start_time": "2020-09-03T20:32:48.755860Z"
    }
   },
   "outputs": [
    {
     "name": "stdout",
     "output_type": "stream",
     "text": [
      "Insira seu nome: Augusto dos Santos Pereira\n"
     ]
    }
   ],
   "source": [
    "nome = str(input('Insira seu nome: '))"
   ]
  },
  {
   "cell_type": "code",
   "execution_count": 26,
   "metadata": {
    "ExecuteTime": {
     "end_time": "2020-09-03T20:33:39.249283Z",
     "start_time": "2020-09-03T20:33:39.240573Z"
    }
   },
   "outputs": [
    {
     "name": "stdout",
     "output_type": "stream",
     "text": [
      "['a', 'r', 'i', 'e', 'r', 'e', 'P', ' ', 's', 'o', 't', 'n', 'a', 'S', ' ', 's', 'o', 'd', ' ', 'o', 't', 's', 'u', 'g', 'u', 'A']\n"
     ]
    }
   ],
   "source": [
    "lista_nome_reverso = list(reversed(nome))\n",
    "\n",
    "print(lista_nome_reverso)"
   ]
  },
  {
   "cell_type": "markdown",
   "metadata": {},
   "source": [
    "Por sua vez, sorted() é uma função que permite ordenar uma sequência."
   ]
  },
  {
   "cell_type": "code",
   "execution_count": 29,
   "metadata": {
    "ExecuteTime": {
     "end_time": "2020-09-03T20:35:57.627886Z",
     "start_time": "2020-09-03T20:35:57.621916Z"
    }
   },
   "outputs": [
    {
     "name": "stdout",
     "output_type": "stream",
     "text": [
      "[' ', ' ', ' ', 'A', 'P', 'S', 'a', 'a', 'd', 'e', 'e', 'g', 'i', 'n', 'o', 'o', 'o', 'r', 'r', 's', 's', 's', 't', 't', 'u', 'u']\n"
     ]
    }
   ],
   "source": [
    "print(sorted(nome))"
   ]
  },
  {
   "cell_type": "markdown",
   "metadata": {
    "ExecuteTime": {
     "end_time": "2020-09-03T20:35:38.029697Z",
     "start_time": "2020-09-03T20:35:38.023093Z"
    }
   },
   "source": [
    "Observe adiante o que ocorre se repetirmos as funções imediatamente acima, mas com o argumento reverse=True dentro da função sorted.\n",
    "\n",
    "Dica: ~~print(sorted(nome, reverse=True))~~"
   ]
  },
  {
   "cell_type": "code",
   "execution_count": 32,
   "metadata": {
    "ExecuteTime": {
     "end_time": "2020-09-03T20:39:31.735773Z",
     "start_time": "2020-09-03T20:39:31.727907Z"
    }
   },
   "outputs": [
    {
     "name": "stdout",
     "output_type": "stream",
     "text": [
      "['u', 'u', 't', 't', 's', 's', 's', 'r', 'r', 'o', 'o', 'o', 'n', 'i', 'g', 'e', 'e', 'd', 'a', 'a', 'S', 'P', 'A', ' ', ' ', ' ']\n"
     ]
    }
   ],
   "source": [
    "print(sorted(nome, reverse=True))"
   ]
  },
  {
   "cell_type": "code",
   "execution_count": 36,
   "metadata": {
    "ExecuteTime": {
     "end_time": "2020-09-03T20:43:47.226404Z",
     "start_time": "2020-09-03T20:43:47.219961Z"
    }
   },
   "outputs": [
    {
     "name": "stdout",
     "output_type": "stream",
     "text": [
      "['a', 'b', 'c', 'd', 'e', 'f', 'g', 'h', 'i', 'j', 'k', 'l', 'm', 'n', 'o', 'p', 'q', 'r', 's', 't', 'u', 'v', 'w', 'x', 'y', 'z']\n"
     ]
    }
   ],
   "source": [
    "alfab = 'abcdefghijklmnopqrstuvwxyz'\n",
    "list_alfab = list(alfab)\n",
    "print(list_alfab)"
   ]
  },
  {
   "cell_type": "markdown",
   "metadata": {},
   "source": [
    "As funções max() retornao valor máximo de uma determinada sequência, conforme podemos ver adiante."
   ]
  },
  {
   "cell_type": "code",
   "execution_count": 40,
   "metadata": {
    "ExecuteTime": {
     "end_time": "2020-09-03T20:45:34.178946Z",
     "start_time": "2020-09-03T20:45:34.171527Z"
    }
   },
   "outputs": [
    {
     "data": {
      "text/plain": [
       "'z'"
      ]
     },
     "execution_count": 40,
     "metadata": {},
     "output_type": "execute_result"
    }
   ],
   "source": [
    "max('abcdefghijklmnopqrstuvwxyz')"
   ]
  },
  {
   "cell_type": "code",
   "execution_count": 41,
   "metadata": {
    "ExecuteTime": {
     "end_time": "2020-09-03T20:45:46.666277Z",
     "start_time": "2020-09-03T20:45:46.661673Z"
    }
   },
   "outputs": [
    {
     "data": {
      "text/plain": [
       "'z'"
      ]
     },
     "execution_count": 41,
     "metadata": {},
     "output_type": "execute_result"
    }
   ],
   "source": [
    "max(list_alfab)"
   ]
  },
  {
   "cell_type": "code",
   "execution_count": 43,
   "metadata": {
    "ExecuteTime": {
     "end_time": "2020-09-03T20:48:50.703937Z",
     "start_time": "2020-09-03T20:48:50.695920Z"
    }
   },
   "outputs": [],
   "source": [
    "um_a_nove = tuple((0,1,2,3,4,5,6,7,8,9))"
   ]
  },
  {
   "cell_type": "code",
   "execution_count": 44,
   "metadata": {
    "ExecuteTime": {
     "end_time": "2020-09-03T20:49:05.594226Z",
     "start_time": "2020-09-03T20:49:05.588716Z"
    }
   },
   "outputs": [
    {
     "data": {
      "text/plain": [
       "9"
      ]
     },
     "execution_count": 44,
     "metadata": {},
     "output_type": "execute_result"
    }
   ],
   "source": [
    "max(um_a_nove)"
   ]
  },
  {
   "cell_type": "markdown",
   "metadata": {},
   "source": [
    "Repita o procedimenot acima com a função min(), que retorna o mínimo de uma sequência."
   ]
  },
  {
   "cell_type": "code",
   "execution_count": null,
   "metadata": {
    "ExecuteTime": {
     "end_time": "2020-09-03T20:45:34.178946Z",
     "start_time": "2020-09-03T20:45:34.171527Z"
    }
   },
   "outputs": [],
   "source": []
  },
  {
   "cell_type": "code",
   "execution_count": null,
   "metadata": {},
   "outputs": [],
   "source": []
  },
  {
   "cell_type": "code",
   "execution_count": null,
   "metadata": {},
   "outputs": [],
   "source": []
  },
  {
   "cell_type": "markdown",
   "metadata": {},
   "source": [
    "Com certeza, a mais utilizada entre as funções nativas para consulta de objetos compostos é a função len(), que retorna a extensão (do Inglês length) desses objetos."
   ]
  },
  {
   "cell_type": "code",
   "execution_count": 37,
   "metadata": {
    "ExecuteTime": {
     "end_time": "2020-09-03T20:44:17.660978Z",
     "start_time": "2020-09-03T20:44:17.653918Z"
    }
   },
   "outputs": [
    {
     "data": {
      "text/plain": [
       "26"
      ]
     },
     "execution_count": 37,
     "metadata": {},
     "output_type": "execute_result"
    }
   ],
   "source": [
    "len(list_alfab)"
   ]
  },
  {
   "cell_type": "code",
   "execution_count": 38,
   "metadata": {
    "ExecuteTime": {
     "end_time": "2020-09-03T20:44:29.986103Z",
     "start_time": "2020-09-03T20:44:29.979130Z"
    }
   },
   "outputs": [
    {
     "data": {
      "text/plain": [
       "26"
      ]
     },
     "execution_count": 38,
     "metadata": {},
     "output_type": "execute_result"
    }
   ],
   "source": [
    "len(alfab)"
   ]
  },
  {
   "cell_type": "code",
   "execution_count": 39,
   "metadata": {
    "ExecuteTime": {
     "end_time": "2020-09-03T20:44:34.752675Z",
     "start_time": "2020-09-03T20:44:34.742174Z"
    }
   },
   "outputs": [
    {
     "data": {
      "text/plain": [
       "26"
      ]
     },
     "execution_count": 39,
     "metadata": {},
     "output_type": "execute_result"
    }
   ],
   "source": [
    "len(nome)"
   ]
  },
  {
   "cell_type": "markdown",
   "metadata": {},
   "source": [
    "Nas próximas células, aplique a função len() aos objetos armazenados anteriormente nas variáveis um_a_nove, alfab e list_alfab."
   ]
  },
  {
   "cell_type": "code",
   "execution_count": null,
   "metadata": {},
   "outputs": [],
   "source": []
  },
  {
   "cell_type": "code",
   "execution_count": null,
   "metadata": {},
   "outputs": [],
   "source": []
  },
  {
   "cell_type": "code",
   "execution_count": null,
   "metadata": {},
   "outputs": [],
   "source": []
  },
  {
   "cell_type": "markdown",
   "metadata": {},
   "source": [
    "## Recapitulando"
   ]
  },
  {
   "cell_type": "markdown",
   "metadata": {},
   "source": [
    "Recapitulando os temas abordados no presente notebook:\n",
    "\n",
    "\n",
    "* Em Python, temos três tipos de funções\n",
    "    * funções nativas (built-in functions)\n",
    "    * funções definidas por usuários\n",
    "    * funções anônimas\n",
    "* Algumas funções importantes podem ser classificadas em\n",
    "    * lógico-numéricas\n",
    "    * de ajuda e consulta de objetos\n",
    "    * de interatividade com o usuário\n",
    "    * para e alteração de objetos compostos\n",
    "* A sequência de execução de funções encadeadas é da mais interna para a externa\n",
    "\n",
    "\n",
    "O conteúdo visto até aqui é bastante extenso. Por essa razão, depois de relaxar um pouco de tanto trabalho, podemos responder às questões do notebook de exercícios, para que o conteúdo aqui se assente no nosso entendimento. Também para que tenhamos fôlego para absorver tanta informação, algumas funções importantes foram deixadas de fora desse primeiro notebook sobre o tema.\n",
    "\n",
    "Assim, funções importantes muito relevantes e frequentemente utilizadas nos mais diversos tipos de projetos serão tratadas em outro notebook. Entre essas funções que veremos posteriormente, temos  filter(), map(), range(), next(), iter(), zip(), enumerate() e open().\n",
    "\n",
    "\n",
    "Todas as funções nativas em Python e aquelas vistas aqui estão descritas na documentação da linguagem, em https://docs.python.org/3/library/functions.html. Para aqueles que estiverem tendo o primeiro contato com programação e com a linguagem Python a partir dessas conversas, a documentação pode parecer um pouco \"hieroglífica\". Não se preocupe, pode começar a se habitar a fazer esse tipo de consulta que, com o tempo, tendo feito várias soluções com código, participado de outros cursos, lido livros sobre o assunto e consultado _sites_ de colaboração, esse tipo de documentação vai fazer perfeito sentido."
   ]
  },
  {
   "cell_type": "code",
   "execution_count": null,
   "metadata": {},
   "outputs": [],
   "source": []
  }
 ],
 "metadata": {
  "kernelspec": {
   "display_name": "aulas",
   "language": "python",
   "name": "aulas"
  },
  "language_info": {
   "codemirror_mode": {
    "name": "ipython",
    "version": 3
   },
   "file_extension": ".py",
   "mimetype": "text/x-python",
   "name": "python",
   "nbconvert_exporter": "python",
   "pygments_lexer": "ipython3",
   "version": "3.6.10"
  },
  "toc": {
   "base_numbering": 1,
   "nav_menu": {},
   "number_sections": true,
   "sideBar": true,
   "skip_h1_title": false,
   "title_cell": "Table of Contents",
   "title_sidebar": "Contents",
   "toc_cell": false,
   "toc_position": {},
   "toc_section_display": true,
   "toc_window_display": true
  }
 },
 "nbformat": 4,
 "nbformat_minor": 4
}
