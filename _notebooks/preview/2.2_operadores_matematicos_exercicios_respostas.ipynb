{
 "cells": [
  {
   "cell_type": "markdown",
   "metadata": {},
   "source": [
    "## Conferência de Pertencimento"
   ]
  },
  {
   "cell_type": "markdown",
   "metadata": {},
   "source": [
    "Para verificação de pertencimento de alguns itens à lista lista_mercado, faça o que se pede nas células adiante:"
   ]
  },
  {
   "cell_type": "code",
   "execution_count": 26,
   "metadata": {
    "ExecuteTime": {
     "end_time": "2020-09-06T12:15:54.167214Z",
     "start_time": "2020-09-06T12:15:54.162424Z"
    }
   },
   "outputs": [],
   "source": [
    "#execute esta célula para gerar a lista lista_de_mercado\n",
    "\n",
    "lista_mercado = ['arroz', 'feijão', 'açucar', 'café', 'ovos', 'macarrão']"
   ]
  },
  {
   "cell_type": "code",
   "execution_count": 27,
   "metadata": {
    "ExecuteTime": {
     "end_time": "2020-09-06T12:15:54.378101Z",
     "start_time": "2020-09-06T12:15:54.371070Z"
    }
   },
   "outputs": [
    {
     "data": {
      "text/plain": [
       "True"
      ]
     },
     "execution_count": 27,
     "metadata": {},
     "output_type": "execute_result"
    }
   ],
   "source": [
    "# verifique se 'arroz' pertence a lista_mercado\n",
    "\n",
    "'arroz' in lista_de_mercado"
   ]
  },
  {
   "cell_type": "code",
   "execution_count": 28,
   "metadata": {
    "ExecuteTime": {
     "end_time": "2020-09-06T12:15:54.559598Z",
     "start_time": "2020-09-06T12:15:54.553485Z"
    }
   },
   "outputs": [
    {
     "data": {
      "text/plain": [
       "True"
      ]
     },
     "execution_count": 28,
     "metadata": {},
     "output_type": "execute_result"
    }
   ],
   "source": [
    "# verifique se 'arroz' pertence a lista_mercado\n",
    "\n",
    "'feijão' in lista_de_mercado"
   ]
  },
  {
   "cell_type": "code",
   "execution_count": 29,
   "metadata": {
    "ExecuteTime": {
     "end_time": "2020-09-06T12:15:54.748216Z",
     "start_time": "2020-09-06T12:15:54.740805Z"
    }
   },
   "outputs": [
    {
     "data": {
      "text/plain": [
       "True"
      ]
     },
     "execution_count": 29,
     "metadata": {},
     "output_type": "execute_result"
    }
   ],
   "source": [
    "# verifique se 'arroz' pertence a lista_mercado e feijão percente à lista mercado, ao mesmo tempo\n",
    "\n",
    "'arroz' in lista_de_mercado and 'feijão' in lista_de_mercado"
   ]
  },
  {
   "cell_type": "code",
   "execution_count": 30,
   "metadata": {
    "ExecuteTime": {
     "end_time": "2020-09-06T12:15:55.255158Z",
     "start_time": "2020-09-06T12:15:55.250597Z"
    }
   },
   "outputs": [
    {
     "data": {
      "text/plain": [
       "False"
      ]
     },
     "execution_count": 30,
     "metadata": {},
     "output_type": "execute_result"
    }
   ],
   "source": [
    "# verifique se 'arroz' pertence a lista_mercado e feijão Não percente à lista mercado, ao mesmo tempo\n",
    "\n",
    "'arroz' in lista_de_mercado and 'feijão' not in lista_de_mercado"
   ]
  },
  {
   "cell_type": "code",
   "execution_count": 31,
   "metadata": {
    "ExecuteTime": {
     "end_time": "2020-09-06T12:15:56.947790Z",
     "start_time": "2020-09-06T12:15:56.942645Z"
    }
   },
   "outputs": [
    {
     "data": {
      "text/plain": [
       "True"
      ]
     },
     "execution_count": 31,
     "metadata": {},
     "output_type": "execute_result"
    }
   ],
   "source": [
    "# verifique se ao menos um dos itens 'ovos' ou 'refrigerante' pertence a lista_mercado\n",
    "\n",
    "'arroz' in lista_de_mercado or 'refrigerante' in lista_de_mercado"
   ]
  },
  {
   "cell_type": "markdown",
   "metadata": {},
   "source": [
    "## Equivalência ou Identidade"
   ]
  },
  {
   "cell_type": "markdown",
   "metadata": {},
   "source": [
    "Faça o que é pedido nas células adiante para identificar se os objetos têm valor equivalente (igualdade) ou se são o mesmo objeto na memória (identidade)"
   ]
  },
  {
   "cell_type": "code",
   "execution_count": 32,
   "metadata": {
    "ExecuteTime": {
     "end_time": "2020-09-06T12:20:29.584323Z",
     "start_time": "2020-09-06T12:20:29.580021Z"
    }
   },
   "outputs": [],
   "source": [
    "# declare uma variável chamada texto, com a string 'dedução'\n",
    "\n",
    "texto = 'dedução'"
   ]
  },
  {
   "cell_type": "code",
   "execution_count": 33,
   "metadata": {
    "ExecuteTime": {
     "end_time": "2020-09-06T12:20:53.342392Z",
     "start_time": "2020-09-06T12:20:53.335151Z"
    }
   },
   "outputs": [
    {
     "data": {
      "text/plain": [
       "True"
      ]
     },
     "execution_count": 33,
     "metadata": {},
     "output_type": "execute_result"
    }
   ],
   "source": [
    "# Com o operador de igualdade, ==, Verifique se a variável texto guarda um valor idêntico à string 'dedução'\n",
    "\n",
    "texto == 'dedução'"
   ]
  },
  {
   "cell_type": "code",
   "execution_count": 35,
   "metadata": {
    "ExecuteTime": {
     "end_time": "2020-09-06T12:24:46.724327Z",
     "start_time": "2020-09-06T12:24:46.719044Z"
    }
   },
   "outputs": [
    {
     "data": {
      "text/plain": [
       "False"
      ]
     },
     "execution_count": 35,
     "metadata": {},
     "output_type": "execute_result"
    }
   ],
   "source": [
    "# Com o operador de identidade, is, Verifique se a variável tem o mesmo identity number, ou seja, tem o mesmo espaço na memória em relação a uma string 'dedução'\n",
    "\n",
    "texto is 'dedução'"
   ]
  },
  {
   "cell_type": "code",
   "execution_count": 36,
   "metadata": {
    "ExecuteTime": {
     "end_time": "2020-09-06T12:26:33.467021Z",
     "start_time": "2020-09-06T12:26:33.460060Z"
    }
   },
   "outputs": [
    {
     "data": {
      "text/plain": [
       "True"
      ]
     },
     "execution_count": 36,
     "metadata": {},
     "output_type": "execute_result"
    }
   ],
   "source": [
    "# verifique se a variável texto é, ao menos, igual, ==, ao texto 'dedução', OU, tem o mesmo identity number de 'dedução'\n",
    "\n",
    "\n",
    "texto == 'dedução' or texto is 'dedução'"
   ]
  },
  {
   "cell_type": "code",
   "execution_count": 41,
   "metadata": {
    "ExecuteTime": {
     "end_time": "2020-09-06T12:30:14.935626Z",
     "start_time": "2020-09-06T12:30:14.927450Z"
    }
   },
   "outputs": [
    {
     "data": {
      "text/plain": [
       "False"
      ]
     },
     "execution_count": 41,
     "metadata": {},
     "output_type": "execute_result"
    }
   ],
   "source": [
    "# verifique se a variável texto é igual, ==, ao texto 'dedução', E, ao mesmo tempo, É o mesmo objeto, com o mesmo identity number em relação à string 'dedução'\n",
    "\n",
    "# texto == 'dedução' and texto is 'dedução'                       também é possível\n",
    "\n",
    "(texto == 'dedução') and (texto is 'dedução')"
   ]
  },
  {
   "cell_type": "code",
   "execution_count": 42,
   "metadata": {
    "ExecuteTime": {
     "end_time": "2020-09-06T12:30:15.392065Z",
     "start_time": "2020-09-06T12:30:15.385103Z"
    }
   },
   "outputs": [
    {
     "data": {
      "text/plain": [
       "True"
      ]
     },
     "execution_count": 42,
     "metadata": {},
     "output_type": "execute_result"
    }
   ],
   "source": [
    "# verifique se a variável texto é igual, ==, ao texto 'dedução', E, ao mesmo tempo, NÃO É o mesmo objeto, com o mesmo identity number em relação à string 'dedução'\n",
    "\n",
    "# texto == 'dedução' and texto is not 'dedução' também é possível\n",
    "\n",
    "(texto == 'dedução') and (texto is not 'dedução')"
   ]
  },
  {
   "cell_type": "markdown",
   "metadata": {},
   "source": [
    "## Identificação de Divisão e de Números Pares"
   ]
  },
  {
   "cell_type": "markdown",
   "metadata": {},
   "source": [
    "O código da célula abaixo exemplifica como podemos encadear variáveis, valores e operadores em sequência para produzir um resultado desejado. Na primeira linha, uma variável \"valor \"é declarada, com atribuição de um número de tipo _integer_. Na linha seguinte a variável valor passa por uma operação de módulo (%) por 3, ou seja, uma operação de divisão em que o resultado esperado é o quanto resta dessa divisão inteira. Em seguida, o resultado dessa divisão é submetido a um operador de comparação, que busca identificar se é igual a 0. Dessa forma, verificamos se o valor na variável \"valor\" é divisível por 3."
   ]
  },
  {
   "cell_type": "code",
   "execution_count": 10,
   "metadata": {
    "ExecuteTime": {
     "end_time": "2020-09-06T01:52:49.562057Z",
     "start_time": "2020-09-06T01:52:49.553750Z"
    }
   },
   "outputs": [
    {
     "data": {
      "text/plain": [
       "True"
      ]
     },
     "execution_count": 10,
     "metadata": {},
     "output_type": "execute_result"
    }
   ],
   "source": [
    "valor = 3\n",
    "\n",
    "valor % 3 == 0"
   ]
  },
  {
   "cell_type": "markdown",
   "metadata": {},
   "source": [
    "Considerando-se a capacidade de verificar se um número é divisível por outro número, na próxima célula, declare uma variável valor2, que recebe qualquer valor de tipo _integer_ que preferir.\n",
    "Faça uma operação módulo, seguida de uma comparação que sirva para identificar se um número é par."
   ]
  },
  {
   "cell_type": "code",
   "execution_count": 11,
   "metadata": {
    "ExecuteTime": {
     "end_time": "2020-09-06T01:54:24.961397Z",
     "start_time": "2020-09-06T01:54:24.954590Z"
    }
   },
   "outputs": [
    {
     "data": {
      "text/plain": [
       "False"
      ]
     },
     "execution_count": 11,
     "metadata": {},
     "output_type": "execute_result"
    }
   ],
   "source": [
    "valor2 = 2\n",
    "\n",
    "valor % 2 == 0"
   ]
  },
  {
   "cell_type": "markdown",
   "metadata": {},
   "source": [
    "Na próxima célula, verifique se o número 6 é, ao mesmo tempo, divisível por 3 e par."
   ]
  },
  {
   "cell_type": "code",
   "execution_count": 45,
   "metadata": {
    "ExecuteTime": {
     "end_time": "2020-09-06T12:33:55.895681Z",
     "start_time": "2020-09-06T12:33:55.888805Z"
    }
   },
   "outputs": [
    {
     "data": {
      "text/plain": [
       "True"
      ]
     },
     "execution_count": 45,
     "metadata": {},
     "output_type": "execute_result"
    }
   ],
   "source": [
    "6 % 2 == 0 and 6 % 3 == 0"
   ]
  },
  {
   "cell_type": "markdown",
   "metadata": {},
   "source": [
    "Na próxima célula, verifique se o número 9 é, ao mesmo tempo, divisível por 3 e par."
   ]
  },
  {
   "cell_type": "code",
   "execution_count": 46,
   "metadata": {
    "ExecuteTime": {
     "end_time": "2020-09-06T12:34:11.596042Z",
     "start_time": "2020-09-06T12:34:11.587964Z"
    }
   },
   "outputs": [
    {
     "data": {
      "text/plain": [
       "False"
      ]
     },
     "execution_count": 46,
     "metadata": {},
     "output_type": "execute_result"
    }
   ],
   "source": [
    "9 % 2 == 0 and 9 % 3 == 0"
   ]
  },
  {
   "cell_type": "markdown",
   "metadata": {},
   "source": [
    "## Comparação de números"
   ]
  },
  {
   "cell_type": "markdown",
   "metadata": {},
   "source": [
    "Faça o que é pedido nas células adiante para identificar se os objetos númericos são maiores do que outros ou menores do que outros"
   ]
  },
  {
   "cell_type": "code",
   "execution_count": 61,
   "metadata": {
    "ExecuteTime": {
     "end_time": "2020-09-06T12:43:57.733714Z",
     "start_time": "2020-09-06T12:43:57.727232Z"
    }
   },
   "outputs": [
    {
     "data": {
      "text/plain": [
       "False"
      ]
     },
     "execution_count": 61,
     "metadata": {},
     "output_type": "execute_result"
    }
   ],
   "source": [
    "# veifique se 100 elevado a 0 é maior do que 1\n",
    "\n",
    "100 ** 0 > 1"
   ]
  },
  {
   "cell_type": "code",
   "execution_count": 62,
   "metadata": {
    "ExecuteTime": {
     "end_time": "2020-09-06T12:45:20.894054Z",
     "start_time": "2020-09-06T12:45:20.888061Z"
    }
   },
   "outputs": [
    {
     "data": {
      "text/plain": [
       "True"
      ]
     },
     "execution_count": 62,
     "metadata": {},
     "output_type": "execute_result"
    }
   ],
   "source": [
    "# veifique se 100 elevado a 0 é maior ou igual a 1\n",
    "\n",
    "100 ** 0 >= 1"
   ]
  },
  {
   "cell_type": "code",
   "execution_count": 59,
   "metadata": {
    "ExecuteTime": {
     "end_time": "2020-09-06T12:43:03.263599Z",
     "start_time": "2020-09-06T12:43:03.257591Z"
    }
   },
   "outputs": [
    {
     "data": {
      "text/plain": [
       "True"
      ]
     },
     "execution_count": 59,
     "metadata": {},
     "output_type": "execute_result"
    }
   ],
   "source": [
    "# veifique se 100 elevado a 0 é menor que 10\n",
    "\n",
    "100 ** 0 < 10"
   ]
  },
  {
   "cell_type": "code",
   "execution_count": 60,
   "metadata": {
    "ExecuteTime": {
     "end_time": "2020-09-06T12:43:03.771446Z",
     "start_time": "2020-09-06T12:43:03.763392Z"
    }
   },
   "outputs": [
    {
     "data": {
      "text/plain": [
       "True"
      ]
     },
     "execution_count": 60,
     "metadata": {},
     "output_type": "execute_result"
    }
   ],
   "source": [
    "# veifique se 100 elevado a 0 é maior do que 1 OU  se 100 elevado a 0 é menor que 10\n",
    "\n",
    "100 ** 0 > 1 or 100 ** 0 < 10"
   ]
  },
  {
   "cell_type": "markdown",
   "metadata": {},
   "source": [
    "## Conversor de moedas Real/Dólar"
   ]
  },
  {
   "cell_type": "markdown",
   "metadata": {},
   "source": [
    "Faça uma sequência de rotinas que converta valores em Reais para Dólar.\n",
    "\n",
    "\n",
    "* Declare uma variável **cotacao**, que deve conter a cotação do dólar pela qual será feita a conversão\n",
    "* O cotação a ser utilizada é 5.5 (é... eu sei...)\n",
    "* À variável valor_a_converter atribua o resultado de um input de usuário correspondente ao valor em Reais, em float e arredondado com duas casas decimais (lembre-se da ordem de execução de funções de dentro para fora)\n",
    "* O texto da função input que será exibido para o usuário deve ser claro naquilo que pede\n",
    "* O resultado da conversão deve ser armazenado na variável valor_em_dolar\n",
    "* O resultado da variável deve ser apresentado para o usuário com um texto introdutório claro concatenado ao valor em dólar, arredondado para duas casas decimais e convertido para o tipo _string_\n",
    "\n",
    "Observação1: Por ora, vamos utilizar os valores em formato original do Python, com ponto sendo separador de decimais.\n",
    "Observação2: Mesmo que o número seja previsto para arredondamento com duas casas, pode ser que apareça apenas uma casa decimal, se o valor decimal for 0."
   ]
  },
  {
   "cell_type": "code",
   "execution_count": 28,
   "metadata": {
    "ExecuteTime": {
     "end_time": "2020-09-03T20:10:21.391406Z",
     "start_time": "2020-09-03T20:10:15.736259Z"
    }
   },
   "outputs": [
    {
     "name": "stdout",
     "output_type": "stream",
     "text": [
      "Insira aqui os valores em Reais: 100\n",
      "R$100.0 equivalem a U$550.0 na data de hoje.\n"
     ]
    }
   ],
   "source": [
    "cotacao = 5.5\n",
    "\n",
    "valor_a_converter = round(float(input(\"Insira aqui os valores em Reais: \")), 2)\n",
    "\n",
    "valor_em_dolar = round(valor_a_converter * cotacao, 2)\n",
    "\n",
    "print('R$' + str(valor_a_converter) + ' equivalem a ' + 'U$' + str(valor_em_dolar) + ' na data de hoje.')"
   ]
  },
  {
   "cell_type": "markdown",
   "metadata": {},
   "source": [
    "## Conversor de Temperatura em Graus Fahrenheit para Graus Celsius"
   ]
  },
  {
   "cell_type": "markdown",
   "metadata": {
    "ExecuteTime": {
     "end_time": "2020-09-03T19:56:05.616218Z",
     "start_time": "2020-09-03T19:56:05.609136Z"
    }
   },
   "source": [
    "Conforme podemos ver em https://pt.wikipedia.org/wiki/Grau_Fahrenheit, a fórmula de conversão de temperatura em Fahrenheit para Graus Celsius é T°C = (T°F - 32)/1,8. Podemos utilizar essa fórmula para fazer a nossa própria rotina de conversão em Python.\n",
    "\n",
    "Para tanto:\n",
    "\n",
    "* A uma variável **tf** atribua o resultado de um input de usuário correspondente à temperatura em Fahreinheit, em tipo float e arredondada com duas casas decimais\n",
    "* O texto da função input que será exibido para o usuário deve ser claro naquilo que pede\n",
    "* Declare uma variável tc que deve receber o resultado da fórmula o resultado arredondado da fórmula de conversão aplicada à temperatura em Fahrenheit\n",
    "* O resultado da variável tc deve ser apresentado para o usuário com um texto introdutório claro\n",
    "\n",
    "\n",
    "Dica: ~~A operação round((tf - 32)/1.8, 2) arredonda em duas casas decimais o resultado da fórmula de conversão~~."
   ]
  },
  {
   "cell_type": "code",
   "execution_count": 31,
   "metadata": {
    "ExecuteTime": {
     "end_time": "2020-09-03T20:18:37.046798Z",
     "start_time": "2020-09-03T20:18:33.806474Z"
    }
   },
   "outputs": [
    {
     "name": "stdout",
     "output_type": "stream",
     "text": [
      "Insira a temperatura em Graus Fahrenheit: 50\n",
      "50.0°F correspondem a 10.0°C.\n"
     ]
    }
   ],
   "source": [
    "tf = round(float(input('Insira a temperatura em Graus Fahrenheit: ')),2)\n",
    "tc = round((tf - 32)/1.8, 2)\n",
    "print(str(tf) + '°F correspondem a ' + str(tc) + '°C.')"
   ]
  }
 ],
 "metadata": {
  "kernelspec": {
   "display_name": "aulas",
   "language": "python",
   "name": "aulas"
  },
  "language_info": {
   "codemirror_mode": {
    "name": "ipython",
    "version": 3
   },
   "file_extension": ".py",
   "mimetype": "text/x-python",
   "name": "python",
   "nbconvert_exporter": "python",
   "pygments_lexer": "ipython3",
   "version": "3.6.10"
  },
  "toc": {
   "base_numbering": 1,
   "nav_menu": {},
   "number_sections": true,
   "sideBar": true,
   "skip_h1_title": false,
   "title_cell": "Table of Contents",
   "title_sidebar": "Contents",
   "toc_cell": false,
   "toc_position": {},
   "toc_section_display": true,
   "toc_window_display": false
  }
 },
 "nbformat": 4,
 "nbformat_minor": 4
}
