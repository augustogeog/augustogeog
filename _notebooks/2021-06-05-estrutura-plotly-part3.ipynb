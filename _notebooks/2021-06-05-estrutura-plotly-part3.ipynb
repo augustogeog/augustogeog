{
 "cells": [
  {
   "cell_type": "markdown",
   "metadata": {},
   "source": [
    "# \"Conhecendo a Estrutura do Plotly (Parte 3)\"\n",
    "> \"O retorno do rei!\"\n",
    "\n",
    "- toc: true\n",
    "- branch: master\n",
    "- badges: false\n",
    "- comments: true\n",
    "- author: Augusto dos Santos Pereira\n",
    "- categories: [Plotly, Gráficos, Python]"
   ]
  },
  {
   "cell_type": "code",
   "execution_count": 1,
   "metadata": {},
   "outputs": [],
   "source": [
    "# hide_input\n",
    "# This cell is required for the export to HTML to work.\n",
    "import plotly.io as pio\n",
    "pio.renderers.default = 'plotly_mimetype+notebook'\n",
    "#pio.renderers.default = 'colab'\n",
    "# Default is plotly_mimetype+notebook, but jekyll fails to parse plotly_mimetype.\n",
    "#pio.renderers.default = 'notebook_connected'\n",
    "# Uncomment below to avoid using a CDN for plotly.js\n",
    "# pio.renderers.default = 'notebook'\n",
    "\n",
    "# Inject the missing require.js dependency.\n",
    "from IPython.display import display, HTML\n",
    "#js = '<script src=\"https://cdnjs.cloudflare.com/ajax/libs/require.js/2.3.6/require.min.js\" integrity=\"sha512-c3Nl8+7g4LMSTdrm621y7kf9v3SDPnhxLNhcjFJbKECVnmZHTdo+IRO05sNLTH/D3vA6u1X32ehoLC7WFVdheg==\" crossorigin=\"anonymous\"></script>'\n",
    "#display(HTML(js))"
   ]
  },
  {
   "cell_type": "markdown",
   "metadata": {},
   "source": [
    "## A Trilogia\n",
    "\n",
    "Esta postagem é o fim de uma trilogia em que procurei apresentar a **estrutura do pacote [Plotly](https://plotly.com/python/)**, a ferramenta do ecossistema Python para dados que mais tenho utilizado na elaboração de produtos analíticos - gráficos, cartogramas e diagramas. \n",
    "\n",
    "Até aqui, vimos cinco dos sete subpacotes principais do Plotly. Na **[primeira parte](https://augustogeog.github.io/augustogeog/plotly/gr%C3%A1ficos/python/2021/05/31/introdu%C3%A7%C3%A3o-plotly.html)** da série\n",
    "vimos que **Plotly Data** apresenta funções para carregamento de datasets-exemplos como Pandas DataFrame, que **Plotly Express** compõe uma interface de alto nível de abstração que permite fazer gráficos arrojados com uma única função, enquanto **Plotly Colors** agrega funções que geram diferentes tipos de paletas de cores cíclicas, divergentes, sequenciais e qualitativas.\n",
    "\n",
    "Na **[segunda parte](https://augustogeog.github.io/augustogeog/plotly/gr%C3%A1ficos/python/2021/06/05/estrutura-plotly-part2.html)**, vimos que  **Graph Objects**, por sua vez, são objetos que envolvem baixo nível de abstração, permitindo maior nível de personalização de gráficos, ao passo que o pacote **Subplots** é voltado para a facilitação da geração de figuras compostas por diversos gráficos.\n",
    "\n",
    "Agora, mente aberta, espinha erata e o coração tranquilo, pois vamos ver um pouco do que é possível fazer com Plotly **Plotly IO** e **Figure Factory**.\n",
    "\n",
    "> Important: A estrutura do pacote e os exemplos de código utilizados nesta série se referem à versão 4.14.3 do Plotly."
   ]
  },
  {
   "cell_type": "markdown",
   "metadata": {},
   "source": [
    "## Plotly IO\n",
    "\n",
    "IO é uma sigla bastante recorrente em tecnologias computacionais. Refere-se a input e output. Nas bibliotecas do ecossistema Python para tecnologias de dados, IO usualmente se refere a importação e exportação de dados. Assim, no subpacote **Plotly IO**, temos diversas funções para importar e exportar dados estruturados para formação de Plotly Figures, com suas instruções para renderização de gráficos, cartogramas e diagramas.\n",
    "\n",
    "Plotly IO apresenta funções para que possamos exportar os nossos gráficos para formatos de imagem (pio.write_image), para html (pio.write_html) e json (pio.write_json). O subpacote ainda nos permite escolher qual o tema padrão para _template_, ou seja, a aparência geral dos gráficos (`pio.templates.default = 'ggplot2'`, por exemplo, faz com que os gráficos tenha aparência do pacote mais utilizado em linguagem R). No namespace IO podemos também escolher o renderizador a ser utilizado (`pio.renderers.default = 'plotly_mimetype+notebook'`, para Jupyter Notebooks, e `pio.renderers.default = 'colab'` para Google Colab, por exemplo). \n",
    "\n",
    "Vejamos adiante como exportar os gráficos em formato JSON e HTML, o que pode ser útil para lançamento de serviços _web_"
   ]
  }
 ],
 "metadata": {
  "kernelspec": {
   "display_name": "blog",
   "language": "python",
   "name": "blog"
  },
  "language_info": {
   "codemirror_mode": {
    "name": "ipython",
    "version": 3
   },
   "file_extension": ".py",
   "mimetype": "text/x-python",
   "name": "python",
   "nbconvert_exporter": "python",
   "pygments_lexer": "ipython3",
   "version": "3.7.0"
  }
 },
 "nbformat": 4,
 "nbformat_minor": 4
}
