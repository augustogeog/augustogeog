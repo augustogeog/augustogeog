{
 "cells": [
  {
   "cell_type": "markdown",
   "metadata": {},
   "source": [
    "# \"Conhecendo a Estrutura do Plotly (Parte 3)\"\n",
    "> \"O retorno do rei!\"\n",
    "\n",
    "- toc: true\n",
    "- branch: master\n",
    "- badges: false\n",
    "- comments: true\n",
    "- author: Augusto dos Santos Pereira\n",
    "- categories: [Plotly, Gráficos, Python]"
   ]
  },
  {
   "cell_type": "code",
   "execution_count": 1,
   "metadata": {},
   "outputs": [],
   "source": [
    "# hide_input\n",
    "# This cell is required for the export to HTML to work.\n",
    "import plotly.io as pio\n",
    "#pio.renderers.default = 'plotly_mimetype+notebook'\n",
    "pio.renderers.default = 'colab'\n",
    "# Default is plotly_mimetype+notebook, but jekyll fails to parse plotly_mimetype.\n",
    "#pio.renderers.default = 'notebook_connected'\n",
    "# Uncomment below to avoid using a CDN for plotly.js\n",
    "# pio.renderers.default = 'notebook'\n",
    "\n",
    "# Inject the missing require.js dependency.\n",
    "from IPython.display import display, HTML\n",
    "#js = '<script src=\"https://cdnjs.cloudflare.com/ajax/libs/require.js/2.3.6/require.min.js\" integrity=\"sha512-c3Nl8+7g4LMSTdrm621y7kf9v3SDPnhxLNhcjFJbKECVnmZHTdo+IRO05sNLTH/D3vA6u1X32ehoLC7WFVdheg==\" crossorigin=\"anonymous\"></script>'\n",
    "#display(HTML(js))"
   ]
  },
  {
   "cell_type": "markdown",
   "metadata": {},
   "source": [
    "## A Trilogia\n",
    "\n",
    "Esta postagem é o fim de uma trilogia em que procurei apresentar a **estrutura do pacote [Plotly](https://plotly.com/python/)**, a ferramenta do ecossistema Python para dados que mais tenho utilizado na elaboração de produtos analíticos - gráficos, cartogramas e diagramas. \n",
    "\n",
    "Até aqui, vimos cinco dos sete subpacotes principais do Plotly. Na **[primeira parte](https://augustogeog.github.io/augustogeog/plotly/gr%C3%A1ficos/python/2021/05/31/introdu%C3%A7%C3%A3o-plotly.html)** da série\n",
    "vimos que **Plotly Data** apresenta funções para carregamento de datasets-exemplos como Pandas DataFrame, que **Plotly Express** compõe uma interface de alto nível de abstração que permite fazer gráficos arrojados com uma única função, enquanto **Plotly Colors** agrega funções que geram diferentes tipos de paletas de cores cíclicas, divergentes, sequenciais e qualitativas.\n",
    "\n",
    "Na **[segunda parte](https://augustogeog.github.io/augustogeog/plotly/gr%C3%A1ficos/python/2021/06/05/estrutura-plotly-part2.html)**, vimos que  **Graph Objects**, por sua vez, são objetos que envolvem baixo nível de abstração, permitindo maior nível de personalização de gráficos, ao passo que o pacote **Subplots** é voltado para a facilitação da geração de figuras compostas por diversos gráficos.\n",
    "\n",
    "Agora, mente aberta, espinha erata e o coração tranquilo, pois vamos ver um pouco do que é possível fazer com Plotly **Plotly IO** e **Figure Factory**.\n",
    "\n",
    "> Important: A estrutura do pacote e os exemplos de código utilizados nesta série se referem à versão 4.14.3 do Plotly."
   ]
  },
  {
   "cell_type": "markdown",
   "metadata": {},
   "source": [
    "## Plotly IO\n",
    "\n",
    "IO é uma sigla bastante recorrente em tecnologias computacionais. Refere-se a input e output. Nas bibliotecas do ecossistema Python para tecnologias de dados, IO usualmente se refere a importação e exportação de dados. Assim, no subpacote **Plotly IO**, temos diversas funções para importar e exportar dados estruturados para formação de Plotly Figures, com suas instruções para renderização de gráficos, cartogramas e diagramas.\n",
    "\n",
    "Plotly IO apresenta funções para que possamos exportar os nossos gráficos para formatos de imagem (pio.write_image), para html (pio.write_html) e json (pio.write_json). O subpacote ainda nos permite escolher qual o tema padrão para _template_, ou seja, a aparência geral dos gráficos (`pio.templates.default = 'ggplot2'`, por exemplo, faz com que os gráficos tenha aparência do pacote mais utilizado em linguagem R). No namespace IO podemos também escolher o renderizador a ser utilizado (`pio.renderers.default = 'plotly_mimetype+notebook'`, para Jupyter Notebooks, e `pio.renderers.default = 'colab'` para Google Colab, por exemplo). \n",
    "\n",
    "Vejamos adiante como exportar os gráficos em formato JSON e HTML, o que pode ser útil para lançamento de serviços _web_. Como sempre, primeiramente vamos importar as bibliotecas necessárias. Em seguida vamos utilizar a função wind() do subpacote data para obter um Pandas DataFrame com dados sobre direção e velocidade dos ventos. Veremos, também, as primerias seis linhas do DataFrame."
   ]
  },
  {
   "cell_type": "code",
   "execution_count": 5,
   "metadata": {},
   "outputs": [
    {
     "data": {
      "text/html": [
       "<div>\n",
       "<style scoped>\n",
       "    .dataframe tbody tr th:only-of-type {\n",
       "        vertical-align: middle;\n",
       "    }\n",
       "\n",
       "    .dataframe tbody tr th {\n",
       "        vertical-align: top;\n",
       "    }\n",
       "\n",
       "    .dataframe thead th {\n",
       "        text-align: right;\n",
       "    }\n",
       "</style>\n",
       "<table border=\"1\" class=\"dataframe\">\n",
       "  <thead>\n",
       "    <tr style=\"text-align: right;\">\n",
       "      <th></th>\n",
       "      <th>direction</th>\n",
       "      <th>strength</th>\n",
       "      <th>frequency</th>\n",
       "    </tr>\n",
       "  </thead>\n",
       "  <tbody>\n",
       "    <tr>\n",
       "      <th>0</th>\n",
       "      <td>N</td>\n",
       "      <td>0-1</td>\n",
       "      <td>0.5</td>\n",
       "    </tr>\n",
       "    <tr>\n",
       "      <th>1</th>\n",
       "      <td>NNE</td>\n",
       "      <td>0-1</td>\n",
       "      <td>0.6</td>\n",
       "    </tr>\n",
       "    <tr>\n",
       "      <th>2</th>\n",
       "      <td>NE</td>\n",
       "      <td>0-1</td>\n",
       "      <td>0.5</td>\n",
       "    </tr>\n",
       "    <tr>\n",
       "      <th>3</th>\n",
       "      <td>ENE</td>\n",
       "      <td>0-1</td>\n",
       "      <td>0.4</td>\n",
       "    </tr>\n",
       "    <tr>\n",
       "      <th>4</th>\n",
       "      <td>E</td>\n",
       "      <td>0-1</td>\n",
       "      <td>0.4</td>\n",
       "    </tr>\n",
       "    <tr>\n",
       "      <th>5</th>\n",
       "      <td>ESE</td>\n",
       "      <td>0-1</td>\n",
       "      <td>0.3</td>\n",
       "    </tr>\n",
       "  </tbody>\n",
       "</table>\n",
       "</div>"
      ],
      "text/plain": [
       "  direction strength  frequency\n",
       "0         N      0-1        0.5\n",
       "1       NNE      0-1        0.6\n",
       "2        NE      0-1        0.5\n",
       "3       ENE      0-1        0.4\n",
       "4         E      0-1        0.4\n",
       "5       ESE      0-1        0.3"
      ]
     },
     "execution_count": 5,
     "metadata": {},
     "output_type": "execute_result"
    }
   ],
   "source": [
    "import plotly.io as pio # importando a biblioteca Plotly IO\n",
    "import pandas as pd # importando pacote pandas para geração de DataFrame para dados tabulares\n",
    "import plotly.express as px # importando subpacote Plotly Express\n",
    "from plotly.data import wind\n",
    "\n",
    "df = wind()\n",
    "\n",
    "df.head(6)"
   ]
  },
  {
   "cell_type": "markdown",
   "metadata": {},
   "source": [
    "Agora vamos elaborar um gráfico de **[rosa dos ventos](https://content.meteoblue.com/pt/dimensoes-temporais/history/rosa-dos-ventos)**, com a função bar_polar do Plotly Express. Chamamos a função, indicamos qual será o DataFrame, indicamos que o raio, r, é dado pela frequência dos ventos, que o ângulo theta representará a direção, que a cor deve representar a força dos ventos. \n",
    "\n",
    "Uma vez que a coluna força, _strength_, apresenta valor textual no DataFrame, as cores serão atribuídas pelo Plotly para variáveis categórias. Nós sabemos, no entanto, que os textos apresentam intervalos de força (0-1, 1-2, 2-3, 3-4, 4-4, 4-5, 5-6, 6+), que são mais bem representados com cores em paleta sequencial. Por essa razão, vamos indicar que a sequência de cores discretas deverá ser igual à paleta de cores sequenciais em vermelho."
   ]
  },
  {
   "cell_type": "code",
   "execution_count": 7,
   "metadata": {
    "tags": []
   },
   "outputs": [
    {
     "data": {
      "text/html": [
       "<html>\n",
       "<head><meta charset=\"utf-8\" /></head>\n",
       "<body>\n",
       "    <div>            <script src=\"https://cdnjs.cloudflare.com/ajax/libs/mathjax/2.7.5/MathJax.js?config=TeX-AMS-MML_SVG\"></script><script type=\"text/javascript\">if (window.MathJax) {MathJax.Hub.Config({SVG: {font: \"STIX-Web\"}});}</script>                <script type=\"text/javascript\">window.PlotlyConfig = {MathJaxConfig: 'local'};</script>\n",
       "        <script src=\"https://cdn.plot.ly/plotly-latest.min.js\"></script>                <div id=\"990afcab-5472-4e45-8b56-8ee06374dd16\" class=\"plotly-graph-div\" style=\"height:525px; width:100%;\"></div>            <script type=\"text/javascript\">                                    window.PLOTLYENV=window.PLOTLYENV || {};                                    if (document.getElementById(\"990afcab-5472-4e45-8b56-8ee06374dd16\")) {                    Plotly.newPlot(                        \"990afcab-5472-4e45-8b56-8ee06374dd16\",                        [{\"hovertemplate\": \"strength=0-1<br>frequency=%{r}<br>direction=%{theta}<extra></extra>\", \"legendgroup\": \"0-1\", \"marker\": {\"color\": \"rgb(255,245,240)\"}, \"name\": \"0-1\", \"r\": [0.5, 0.6, 0.5, 0.4, 0.4, 0.3, 0.4, 0.4, 0.6, 0.4, 0.5, 0.6, 0.6, 0.5, 0.4, 0.1], \"showlegend\": true, \"subplot\": \"polar\", \"theta\": [\"N\", \"NNE\", \"NE\", \"ENE\", \"E\", \"ESE\", \"SE\", \"SSE\", \"S\", \"SSW\", \"SW\", \"WSW\", \"W\", \"WNW\", \"NW\", \"NNW\"], \"type\": \"barpolar\"}, {\"hovertemplate\": \"strength=1-2<br>frequency=%{r}<br>direction=%{theta}<extra></extra>\", \"legendgroup\": \"1-2\", \"marker\": {\"color\": \"rgb(254,224,210)\"}, \"name\": \"1-2\", \"r\": [1.6, 1.8, 1.5, 1.6, 1.6, 1.2, 1.5, 1.7, 2.2, 2.0, 2.3, 2.4, 2.3, 2.6, 2.3, 0.8], \"showlegend\": true, \"subplot\": \"polar\", \"theta\": [\"N\", \"NNE\", \"NE\", \"ENE\", \"E\", \"ESE\", \"SE\", \"SSE\", \"S\", \"SSW\", \"SW\", \"WSW\", \"W\", \"WNW\", \"NW\", \"NNW\"], \"type\": \"barpolar\"}, {\"hovertemplate\": \"strength=2-3<br>frequency=%{r}<br>direction=%{theta}<extra></extra>\", \"legendgroup\": \"2-3\", \"marker\": {\"color\": \"rgb(252,187,161)\"}, \"name\": \"2-3\", \"r\": [0.9, 1.3, 1.6, 0.9, 1.0, 0.6, 0.6, 0.9, 1.4, 1.7, 1.9, 2.2, 1.8, 1.7, 1.8, 0.8], \"showlegend\": true, \"subplot\": \"polar\", \"theta\": [\"N\", \"NNE\", \"NE\", \"ENE\", \"E\", \"ESE\", \"SE\", \"SSE\", \"S\", \"SSW\", \"SW\", \"WSW\", \"W\", \"WNW\", \"NW\", \"NNW\"], \"type\": \"barpolar\"}, {\"hovertemplate\": \"strength=3-4<br>frequency=%{r}<br>direction=%{theta}<extra></extra>\", \"legendgroup\": \"3-4\", \"marker\": {\"color\": \"rgb(252,146,114)\"}, \"name\": \"3-4\", \"r\": [0.9, 0.8, 1.2, 1.0, 0.8, 0.4, 0.5, 0.5, 0.8, 0.9, 1.3, 1.1, 1.2, 1.2, 1.3, 1.0], \"showlegend\": true, \"subplot\": \"polar\", \"theta\": [\"N\", \"NNE\", \"NE\", \"ENE\", \"E\", \"ESE\", \"SE\", \"SSE\", \"S\", \"SSW\", \"SW\", \"WSW\", \"W\", \"WNW\", \"NW\", \"NNW\"], \"type\": \"barpolar\"}, {\"hovertemplate\": \"strength=4-4<br>frequency=%{r}<br>direction=%{theta}<extra></extra>\", \"legendgroup\": \"4-4\", \"marker\": {\"color\": \"rgb(251,106,74)\"}, \"name\": \"4-4\", \"r\": [0.4, 0.5, 1.2, 0.5, 0.4, 0.2, 0.4, 0.4, 0.7, 0.6, 0.7, 0.8, 0.9, 1.0, 1.0, 0.7], \"showlegend\": true, \"subplot\": \"polar\", \"theta\": [\"N\", \"NNE\", \"NE\", \"ENE\", \"E\", \"ESE\", \"SE\", \"SSE\", \"S\", \"SSW\", \"SW\", \"WSW\", \"W\", \"WNW\", \"NW\", \"NNW\"], \"type\": \"barpolar\"}, {\"hovertemplate\": \"strength=4-5<br>frequency=%{r}<br>direction=%{theta}<extra></extra>\", \"legendgroup\": \"4-5\", \"marker\": {\"color\": \"rgb(239,59,44)\"}, \"name\": \"4-5\", \"r\": [0.3, 0.3, 0.6, 0.2, 0.1, 0.1, 0.05, 0.1, 0.1, 0.2, 0.3, 0.4, 0.9, 0.9, 0.9, 0.3], \"showlegend\": true, \"subplot\": \"polar\", \"theta\": [\"N\", \"NNE\", \"NE\", \"ENE\", \"E\", \"ESE\", \"SE\", \"SSE\", \"S\", \"SSW\", \"SW\", \"WSW\", \"W\", \"WNW\", \"NW\", \"NNW\"], \"type\": \"barpolar\"}, {\"hovertemplate\": \"strength=5-6<br>frequency=%{r}<br>direction=%{theta}<extra></extra>\", \"legendgroup\": \"5-6\", \"marker\": {\"color\": \"rgb(203,24,29)\"}, \"name\": \"5-6\", \"r\": [0.2, 0.1, 0.1, 0.1, 0.1, 0.1, 0.05, 0.05, 0.1, 0.05, 0.2, 0.2, 0.4, 0.7, 0.7, 0.4], \"showlegend\": true, \"subplot\": \"polar\", \"theta\": [\"N\", \"NNE\", \"NE\", \"ENE\", \"E\", \"ESE\", \"SE\", \"SSE\", \"S\", \"SSW\", \"SW\", \"WSW\", \"W\", \"WNW\", \"NW\", \"NNW\"], \"type\": \"barpolar\"}, {\"hovertemplate\": \"strength=6+<br>frequency=%{r}<br>direction=%{theta}<extra></extra>\", \"legendgroup\": \"6+\", \"marker\": {\"color\": \"rgb(165,15,21)\"}, \"name\": \"6+\", \"r\": [0.1, 0.1, 0.1, 0.1, 0.1, 0.05, 0.05, 0.05, 0.05, 0.1, 0.1, 0.1, 0.9, 2.2, 1.5, 0.2], \"showlegend\": true, \"subplot\": \"polar\", \"theta\": [\"N\", \"NNE\", \"NE\", \"ENE\", \"E\", \"ESE\", \"SE\", \"SSE\", \"S\", \"SSW\", \"SW\", \"WSW\", \"W\", \"WNW\", \"NW\", \"NNW\"], \"type\": \"barpolar\"}],                        {\"barmode\": \"relative\", \"legend\": {\"title\": {\"text\": \"strength\"}, \"tracegroupgap\": 0}, \"polar\": {\"angularaxis\": {\"direction\": \"clockwise\", \"rotation\": 90}, \"domain\": {\"x\": [0.0, 1.0], \"y\": [0.0, 1.0]}}, \"template\": {\"data\": {\"bar\": [{\"error_x\": {\"color\": \"#2a3f5f\"}, \"error_y\": {\"color\": \"#2a3f5f\"}, \"marker\": {\"line\": {\"color\": \"#E5ECF6\", \"width\": 0.5}}, \"type\": \"bar\"}], \"barpolar\": [{\"marker\": {\"line\": {\"color\": \"#E5ECF6\", \"width\": 0.5}}, \"type\": \"barpolar\"}], \"carpet\": [{\"aaxis\": {\"endlinecolor\": \"#2a3f5f\", \"gridcolor\": \"white\", \"linecolor\": \"white\", \"minorgridcolor\": \"white\", \"startlinecolor\": \"#2a3f5f\"}, \"baxis\": {\"endlinecolor\": \"#2a3f5f\", \"gridcolor\": \"white\", \"linecolor\": \"white\", \"minorgridcolor\": \"white\", \"startlinecolor\": \"#2a3f5f\"}, \"type\": \"carpet\"}], \"choropleth\": [{\"colorbar\": {\"outlinewidth\": 0, \"ticks\": \"\"}, \"type\": \"choropleth\"}], \"contour\": [{\"colorbar\": {\"outlinewidth\": 0, \"ticks\": \"\"}, \"colorscale\": [[0.0, \"#0d0887\"], [0.1111111111111111, \"#46039f\"], [0.2222222222222222, \"#7201a8\"], [0.3333333333333333, \"#9c179e\"], [0.4444444444444444, \"#bd3786\"], [0.5555555555555556, \"#d8576b\"], [0.6666666666666666, \"#ed7953\"], [0.7777777777777778, \"#fb9f3a\"], [0.8888888888888888, \"#fdca26\"], [1.0, \"#f0f921\"]], \"type\": \"contour\"}], \"contourcarpet\": [{\"colorbar\": {\"outlinewidth\": 0, \"ticks\": \"\"}, \"type\": \"contourcarpet\"}], \"heatmap\": [{\"colorbar\": {\"outlinewidth\": 0, \"ticks\": \"\"}, \"colorscale\": [[0.0, \"#0d0887\"], [0.1111111111111111, \"#46039f\"], [0.2222222222222222, \"#7201a8\"], [0.3333333333333333, \"#9c179e\"], [0.4444444444444444, \"#bd3786\"], [0.5555555555555556, \"#d8576b\"], [0.6666666666666666, \"#ed7953\"], [0.7777777777777778, \"#fb9f3a\"], [0.8888888888888888, \"#fdca26\"], [1.0, \"#f0f921\"]], \"type\": \"heatmap\"}], \"heatmapgl\": [{\"colorbar\": {\"outlinewidth\": 0, \"ticks\": \"\"}, \"colorscale\": [[0.0, \"#0d0887\"], [0.1111111111111111, \"#46039f\"], [0.2222222222222222, \"#7201a8\"], [0.3333333333333333, \"#9c179e\"], [0.4444444444444444, \"#bd3786\"], [0.5555555555555556, \"#d8576b\"], [0.6666666666666666, \"#ed7953\"], [0.7777777777777778, \"#fb9f3a\"], [0.8888888888888888, \"#fdca26\"], [1.0, \"#f0f921\"]], \"type\": \"heatmapgl\"}], \"histogram\": [{\"marker\": {\"colorbar\": {\"outlinewidth\": 0, \"ticks\": \"\"}}, \"type\": \"histogram\"}], \"histogram2d\": [{\"colorbar\": {\"outlinewidth\": 0, \"ticks\": \"\"}, \"colorscale\": [[0.0, \"#0d0887\"], [0.1111111111111111, \"#46039f\"], [0.2222222222222222, \"#7201a8\"], [0.3333333333333333, \"#9c179e\"], [0.4444444444444444, \"#bd3786\"], [0.5555555555555556, \"#d8576b\"], [0.6666666666666666, \"#ed7953\"], [0.7777777777777778, \"#fb9f3a\"], [0.8888888888888888, \"#fdca26\"], [1.0, \"#f0f921\"]], \"type\": \"histogram2d\"}], \"histogram2dcontour\": [{\"colorbar\": {\"outlinewidth\": 0, \"ticks\": \"\"}, \"colorscale\": [[0.0, \"#0d0887\"], [0.1111111111111111, \"#46039f\"], [0.2222222222222222, \"#7201a8\"], [0.3333333333333333, \"#9c179e\"], [0.4444444444444444, \"#bd3786\"], [0.5555555555555556, \"#d8576b\"], [0.6666666666666666, \"#ed7953\"], [0.7777777777777778, \"#fb9f3a\"], [0.8888888888888888, \"#fdca26\"], [1.0, \"#f0f921\"]], \"type\": \"histogram2dcontour\"}], \"mesh3d\": [{\"colorbar\": {\"outlinewidth\": 0, \"ticks\": \"\"}, \"type\": \"mesh3d\"}], \"parcoords\": [{\"line\": {\"colorbar\": {\"outlinewidth\": 0, \"ticks\": \"\"}}, \"type\": \"parcoords\"}], \"pie\": [{\"automargin\": true, \"type\": \"pie\"}], \"scatter\": [{\"marker\": {\"colorbar\": {\"outlinewidth\": 0, \"ticks\": \"\"}}, \"type\": \"scatter\"}], \"scatter3d\": [{\"line\": {\"colorbar\": {\"outlinewidth\": 0, \"ticks\": \"\"}}, \"marker\": {\"colorbar\": {\"outlinewidth\": 0, \"ticks\": \"\"}}, \"type\": \"scatter3d\"}], \"scattercarpet\": [{\"marker\": {\"colorbar\": {\"outlinewidth\": 0, \"ticks\": \"\"}}, \"type\": \"scattercarpet\"}], \"scattergeo\": [{\"marker\": {\"colorbar\": {\"outlinewidth\": 0, \"ticks\": \"\"}}, \"type\": \"scattergeo\"}], \"scattergl\": [{\"marker\": {\"colorbar\": {\"outlinewidth\": 0, \"ticks\": \"\"}}, \"type\": \"scattergl\"}], \"scattermapbox\": [{\"marker\": {\"colorbar\": {\"outlinewidth\": 0, \"ticks\": \"\"}}, \"type\": \"scattermapbox\"}], \"scatterpolar\": [{\"marker\": {\"colorbar\": {\"outlinewidth\": 0, \"ticks\": \"\"}}, \"type\": \"scatterpolar\"}], \"scatterpolargl\": [{\"marker\": {\"colorbar\": {\"outlinewidth\": 0, \"ticks\": \"\"}}, \"type\": \"scatterpolargl\"}], \"scatterternary\": [{\"marker\": {\"colorbar\": {\"outlinewidth\": 0, \"ticks\": \"\"}}, \"type\": \"scatterternary\"}], \"surface\": [{\"colorbar\": {\"outlinewidth\": 0, \"ticks\": \"\"}, \"colorscale\": [[0.0, \"#0d0887\"], [0.1111111111111111, \"#46039f\"], [0.2222222222222222, \"#7201a8\"], [0.3333333333333333, \"#9c179e\"], [0.4444444444444444, \"#bd3786\"], [0.5555555555555556, \"#d8576b\"], [0.6666666666666666, \"#ed7953\"], [0.7777777777777778, \"#fb9f3a\"], [0.8888888888888888, \"#fdca26\"], [1.0, \"#f0f921\"]], \"type\": \"surface\"}], \"table\": [{\"cells\": {\"fill\": {\"color\": \"#EBF0F8\"}, \"line\": {\"color\": \"white\"}}, \"header\": {\"fill\": {\"color\": \"#C8D4E3\"}, \"line\": {\"color\": \"white\"}}, \"type\": \"table\"}]}, \"layout\": {\"annotationdefaults\": {\"arrowcolor\": \"#2a3f5f\", \"arrowhead\": 0, \"arrowwidth\": 1}, \"autotypenumbers\": \"strict\", \"coloraxis\": {\"colorbar\": {\"outlinewidth\": 0, \"ticks\": \"\"}}, \"colorscale\": {\"diverging\": [[0, \"#8e0152\"], [0.1, \"#c51b7d\"], [0.2, \"#de77ae\"], [0.3, \"#f1b6da\"], [0.4, \"#fde0ef\"], [0.5, \"#f7f7f7\"], [0.6, \"#e6f5d0\"], [0.7, \"#b8e186\"], [0.8, \"#7fbc41\"], [0.9, \"#4d9221\"], [1, \"#276419\"]], \"sequential\": [[0.0, \"#0d0887\"], [0.1111111111111111, \"#46039f\"], [0.2222222222222222, \"#7201a8\"], [0.3333333333333333, \"#9c179e\"], [0.4444444444444444, \"#bd3786\"], [0.5555555555555556, \"#d8576b\"], [0.6666666666666666, \"#ed7953\"], [0.7777777777777778, \"#fb9f3a\"], [0.8888888888888888, \"#fdca26\"], [1.0, \"#f0f921\"]], \"sequentialminus\": [[0.0, \"#0d0887\"], [0.1111111111111111, \"#46039f\"], [0.2222222222222222, \"#7201a8\"], [0.3333333333333333, \"#9c179e\"], [0.4444444444444444, \"#bd3786\"], [0.5555555555555556, \"#d8576b\"], [0.6666666666666666, \"#ed7953\"], [0.7777777777777778, \"#fb9f3a\"], [0.8888888888888888, \"#fdca26\"], [1.0, \"#f0f921\"]]}, \"colorway\": [\"#636efa\", \"#EF553B\", \"#00cc96\", \"#ab63fa\", \"#FFA15A\", \"#19d3f3\", \"#FF6692\", \"#B6E880\", \"#FF97FF\", \"#FECB52\"], \"font\": {\"color\": \"#2a3f5f\"}, \"geo\": {\"bgcolor\": \"white\", \"lakecolor\": \"white\", \"landcolor\": \"#E5ECF6\", \"showlakes\": true, \"showland\": true, \"subunitcolor\": \"white\"}, \"hoverlabel\": {\"align\": \"left\"}, \"hovermode\": \"closest\", \"mapbox\": {\"style\": \"light\"}, \"paper_bgcolor\": \"white\", \"plot_bgcolor\": \"#E5ECF6\", \"polar\": {\"angularaxis\": {\"gridcolor\": \"white\", \"linecolor\": \"white\", \"ticks\": \"\"}, \"bgcolor\": \"#E5ECF6\", \"radialaxis\": {\"gridcolor\": \"white\", \"linecolor\": \"white\", \"ticks\": \"\"}}, \"scene\": {\"xaxis\": {\"backgroundcolor\": \"#E5ECF6\", \"gridcolor\": \"white\", \"gridwidth\": 2, \"linecolor\": \"white\", \"showbackground\": true, \"ticks\": \"\", \"zerolinecolor\": \"white\"}, \"yaxis\": {\"backgroundcolor\": \"#E5ECF6\", \"gridcolor\": \"white\", \"gridwidth\": 2, \"linecolor\": \"white\", \"showbackground\": true, \"ticks\": \"\", \"zerolinecolor\": \"white\"}, \"zaxis\": {\"backgroundcolor\": \"#E5ECF6\", \"gridcolor\": \"white\", \"gridwidth\": 2, \"linecolor\": \"white\", \"showbackground\": true, \"ticks\": \"\", \"zerolinecolor\": \"white\"}}, \"shapedefaults\": {\"line\": {\"color\": \"#2a3f5f\"}}, \"ternary\": {\"aaxis\": {\"gridcolor\": \"white\", \"linecolor\": \"white\", \"ticks\": \"\"}, \"baxis\": {\"gridcolor\": \"white\", \"linecolor\": \"white\", \"ticks\": \"\"}, \"bgcolor\": \"#E5ECF6\", \"caxis\": {\"gridcolor\": \"white\", \"linecolor\": \"white\", \"ticks\": \"\"}}, \"title\": {\"x\": 0.05}, \"xaxis\": {\"automargin\": true, \"gridcolor\": \"white\", \"linecolor\": \"white\", \"ticks\": \"\", \"title\": {\"standoff\": 15}, \"zerolinecolor\": \"white\", \"zerolinewidth\": 2}, \"yaxis\": {\"automargin\": true, \"gridcolor\": \"white\", \"linecolor\": \"white\", \"ticks\": \"\", \"title\": {\"standoff\": 15}, \"zerolinecolor\": \"white\", \"zerolinewidth\": 2}}}, \"title\": {\"text\": \"Velocida e Intensidade dos Ventos\"}},                        {\"responsive\": true}                    ).then(function(){\n",
       "                            \n",
       "var gd = document.getElementById('990afcab-5472-4e45-8b56-8ee06374dd16');\n",
       "var x = new MutationObserver(function (mutations, observer) {{\n",
       "        var display = window.getComputedStyle(gd).display;\n",
       "        if (!display || display === 'none') {{\n",
       "            console.log([gd, 'removed!']);\n",
       "            Plotly.purge(gd);\n",
       "            observer.disconnect();\n",
       "        }}\n",
       "}});\n",
       "\n",
       "// Listen for the removal of the full notebook cells\n",
       "var notebookContainer = gd.closest('#notebook-container');\n",
       "if (notebookContainer) {{\n",
       "    x.observe(notebookContainer, {childList: true});\n",
       "}}\n",
       "\n",
       "// Listen for the clearing of the current output cell\n",
       "var outputEl = gd.closest('.output');\n",
       "if (outputEl) {{\n",
       "    x.observe(outputEl, {childList: true});\n",
       "}}\n",
       "\n",
       "                        })                };                            </script>        </div>\n",
       "</body>\n",
       "</html>"
      ]
     },
     "metadata": {},
     "output_type": "display_data"
    }
   ],
   "source": [
    "fig = px.bar_polar( # chamando a função bar_olar\n",
    "    data_frame=df # indicando o df como o DataFrame a ser utilizado para a elaboração da figura\n",
    "    , r=\"frequency\" # indicando que a frequência deve dar a amplitude da barra no raio\n",
    "    , theta=\"direction\" # indicando que o ãngulo deve representar a coluan direção\n",
    "    , color=\"strength\" # associação da força dos ventos à cor no gráfico\n",
    "    , color_discrete_sequence= px.colors.sequential.Reds # indicando que uma gradação de vermelhos deve estar na sequência de cores a ser utilizada\n",
    "    , title= 'Velocida e Intensidade dos Ventos' # título do gráfico\n",
    ")\n",
    "\n",
    "fig.show() # renderizando a figura"
   ]
  },
  {
   "cell_type": "markdown",
   "metadata": {},
   "source": [
    "Podemos precisar importar esse gráfico em um ambiente no qual não teremos a possibilidade de utilizar Pandas e Plotly da maneira como fizemos até aqui, por restrição de memória, ou incompatibilidades com as ferramentas em uso, por exemplo. Nesse caso, pode ser aconselhável exportar a figura renderizada para HTML e incorporá-la à página por meio dessa linguagem de marcação. Vejamos como transformar o gráfico em HTML e como esse objeto pode ser renderizado em Jupyter Notebooks."
   ]
  },
  {
   "cell_type": "code",
   "execution_count": 12,
   "metadata": {},
   "outputs": [],
   "source": [
    "fig_html = pio.to_html(fig) # transformando a figura em html"
   ]
  },
  {
   "cell_type": "markdown",
   "metadata": {},
   "source": [
    "Abaixo podemos ver um breve trecho do HTML gerado."
   ]
  },
  {
   "cell_type": "code",
   "execution_count": 12,
   "metadata": {},
   "outputs": [
    {
     "data": {
      "text/plain": [
       "'<html>\\n<head><meta charset=\"utf-8\" /></head>\\n<body>\\n    <div>                        <script type=\"text/javascript\">window.PlotlyConfig = {MathJaxConfig: \\'local\\'};</script>\\n        <script type=\"text/javascript\">/**\\n* plotly.js v1.58.4\\n* Copyright 2012-2020, Plotly, Inc.\\n* All rights reserved.\\n* Licensed under the MIT license\\n*/\\n!function(t){if(\"object\"==typeof exports&&\"undefined\"!=typeof module)module.exports=t();else if(\"function\"==typeof define&&define.amd)define([],t);else{(\"undefined\"!=typ'"
      ]
     },
     "execution_count": 12,
     "metadata": {},
     "output_type": "execute_result"
    }
   ],
   "source": [
    "fig_html[:500] # exibindo os 500 primeiros caracteres do HTML"
   ]
  },
  {
   "cell_type": "markdown",
   "metadata": {},
   "source": [
    "Agora podemos utilizar as funções display e HTML para podermos renderizar o objeto fig_html."
   ]
  },
  {
   "cell_type": "markdown",
   "metadata": {},
   "source": [
    "Há muito mais que pode ser feito com PIO, mas aqui o importante é entendermos o que podemos encontrar nesse subpacote. Isso vai nos ajudar na hora que precisarmos importar e exportar dados com Plotly."
   ]
  }
 ],
 "metadata": {
  "kernelspec": {
   "display_name": "blog",
   "language": "python",
   "name": "blog"
  },
  "language_info": {
   "codemirror_mode": {
    "name": "ipython",
    "version": 3
   },
   "file_extension": ".py",
   "mimetype": "text/x-python",
   "name": "python",
   "nbconvert_exporter": "python",
   "pygments_lexer": "ipython3",
   "version": "3.7.0"
  }
 },
 "nbformat": 4,
 "nbformat_minor": 4
}
