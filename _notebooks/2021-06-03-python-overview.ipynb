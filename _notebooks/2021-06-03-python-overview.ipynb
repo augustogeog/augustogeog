{
 "cells": [
  {
   "cell_type": "markdown",
   "metadata": {},
   "source": [
    "# \"Aula 1 \"\n",
    "> \"Uma abordagem didática para iniciantes\"\n",
    "\n",
    "- toc: true\n",
    "- branch: master\n",
    "- badges: true\n",
    "- comments: true\n",
    "- author: Augusto dos Santos Pereira\n",
    "- categories: [Python Para Iniciantes]"
   ]
  },
  {
   "cell_type": "markdown",
   "metadata": {
    "heading_collapsed": true
   },
   "source": [
    "## Para início de conversa"
   ]
  },
  {
   "cell_type": "markdown",
   "metadata": {
    "hidden": true
   },
   "source": [
    "Bem-vindo ao nosso curso Python para iniciantes!\n",
    "\n",
    "Este curso é um esforço para a auxiliar aquelas pessoas que, como eu há algum tempo atrás, não têm qualquer familiaridade com linguagem de programação, mas gostariam de utilizar [Python](https://www.python.org/) como ponto de partida em uma trajetória de capacitação para melhor desempenho profissional. Dessa forma, a estrutura, os exemplos, os exercícios e o ritmo deste curso foram cuidadosamente pensados para servir como ponto de partida no aprendizado da programação. Assim, espera-se que, ao final, os participantes do curso possam ter uma visão geral dessa linguagem de programação e uma base sólida para avançar futuramente sobre temas mais complexos. \n",
    "\n",
    "O curso conta com alguns vídeos, aulas ao vivo, on-line, que são ofertadas frequentemente, e com o presente conjunto de documentos interativos, chamados Jupyter Notebooks.\n",
    "\n",
    "Mas afinal, porque iniciar uma trajetória de aprendizado na linguagem Python? Aqui vão algumas considerações que podem nos ajudar a responder a esssa questão. Python:\n",
    "\n",
    "* é uma linguagem multi-propósito, o que permite fazer análise de dados, jogos, aplicativos, websites e tantos outros seviços;\n",
    "* é considerada uma boa linguagem de programação para iniciantes, dada sua sintaxe simples;\n",
    "* é uma das linguagens de programação mais utilizadas na atualidade, de acordo com o repositório de codigos [Github](https://madnight.github.io/githut/#/pull_requests/2020/2);\n",
    "* é, na atualidade, a base do ecossistema mais robusto para Ciência de Dados e Machine Learning;\n",
    "* apresenta uma imensa quantidade bibliotecas de terceiros, com diversas finalidades, que facilitam o desenvolvimento;\n",
    "* conta com uma comunidade de desenvolvimento bastante ativa, sempre disposta a compartilhar informações e conhecimento.\n",
    "\n",
    "Para tirarmos o maior proveito deste curso, precisamos nos familiarizar com este ambiente interativo em que a parte textual e prática de nosso curso está ocorrendo, o que faremos na seção seguinte."
   ]
  },
  {
   "cell_type": "markdown",
   "metadata": {
    "heading_collapsed": true
   },
   "source": [
    "## Conhecendo o Jupyter Notebook"
   ]
  },
  {
   "cell_type": "markdown",
   "metadata": {
    "hidden": true
   },
   "source": [
    "Este ambiente aqui, em que se encontra a parte escrita de nosso curso, é um **Jupyter Notebook**. Notebooks são excelentes mecanismos para se trabalhar com dados a partir de programação, pois eles agregam células de textos formatáveis e células de código, em que são executados nossos programas de maneira interativa. Por essa interatividade, podemos visualizar diversos tipos de resultados de códigos, inclusive com renderização de tabelas, gráficos, mapas, grafos, fórmulas matemáticas etc.\n",
    "\n",
    "Por essa razão, notebooks têm sido utilizados amplamente no fluxo de trabalho de Ciência de Dados, desde a obtenção e o tratamento dos dados, passando para a análise exploratória, até a modelagem e divulgação de resultados. A respeito da divulgação de análises, diversos artigos científicos de peso já têm sido submetidos a partir de notebooks como este. Isso garante que avaliadores, a comunidade científica em geral e quaisquer interessados possam não só ler os resultados e observar os produtos gráficos de apoio, mas também verificar o funcionamento do código que dá base para a publicação, o que permite avaliá-lo, validá-lo e reproduzi-lo em novos trabalhos.\n",
    "\n",
    "Os exemplos abaixo são de código que dão sustentação a algumas análises sobre a difusão territorial da Covid-19 enntre municípios brasileiros. Os resultados foram aceitos pela Hygeia - Revista Brasileira de Geografia da Saúde - e estarão disponíveis on-line em breve.\n",
    "\n",
    "**Figura 1: Renderização de figura cartográfica, tabela e gráfico a partir de código Python em Jupyter Notebook** - "
   ]
  },
  {
   "cell_type": "markdown",
   "metadata": {},
   "source": [
    "![]({{ site.baseurl }}/images/figura_renderizada_nb.png \"Cartograma Renderizado em Notebook\")"
   ]
  },
  {
   "cell_type": "markdown",
   "metadata": {
    "hidden": true
   },
   "source": [
    "![]({{ site.baseurl }}/images/tabela_renderizada_nb.png \"Tabela Renderizada em Notebook\")"
   ]
  },
  {
   "cell_type": "markdown",
   "metadata": {
    "hidden": true
   },
   "source": [
    "![]({{ site.baseurl }}/images/grafico_renderizado_nb.png \"Gráfico Renderizado em Notebook\")"
   ]
  },
  {
   "cell_type": "markdown",
   "metadata": {
    "hidden": true
   },
   "source": [
    "Da mesma forma, em trabalhos técnicos, notebooks podem ser utilizados como verdadeiras notas técnicas interativas. A publicação de livros também tem sido um campo de aplicação desses ambientes de programação. Existem casos de livros que foram feitos inteiramente em notebooks, com divulgação interativa associada aos volumes físicos, como é o caso do livro [Deep Learning for Coders with fastai and PyTorch](https://mybinder.org/v2/gh/fastai/fastbook/master).\n",
    "\n",
    "Ainda quanto a sua aplicação, avanços têm sido feitos na utilização de notebooks como plataformas de distribuição final - _deployment_ - de aplicativos e serviços _web_, como, por exemplo, na forma de painéis temáticos de visualização de dados - _dashboards_. No entanto, ainda existem grandes limitações para seu uso em diversas dessas finalidades. Assim, na maior parte dos casos, o notebook é utilizado como uma ferramenta dinâmica, para obtenção, tratamento e análise de dados, que deixa de ser considerada na fase de deployment, em que ferramentas mais tradicionais de programação são utilizadas, tais como editores de textos e as IDEs - Integrated Development Environment, associadas a servidores _on-line_, serviços de distribuição e a contêineres em nuvem.\n",
    "\n",
    "Se muitos dos termos acima forem novos. Não precisamos nos preocupar. O importante a se reter aqui é que notebooks são poderosas ferramentas durante o fluxo de análise de dados com Python. Porém existem limitações e, a depender de nosso projeto de aprendizado e de aplicação dos conhecimentos de programação, novas ferramentas de construção de código precisarão ser consideradas no futuro.\n",
    "\n",
    "Por sua aplicação em operações com dados, diversos serviços em nuvem oferecem a possibilidade de programação por meio de Jupyter Notebooks, entre elas Microsoft Azure, Google Cloud e Amazon AWS. Da mesma forma, mesmo IDEs têm recebido interface com notebooks para permitir que desenvolvedores utilizem suas potencialidades.\n",
    "\n",
    "A princípio, o projeto Ipython oferecia ambiente de programação interativo voltado para Python. A partir de 2014, o projeto contava com suporte para as linguagens Julia, Python e R, o que gerou o acrônimo Jupyter. Desde então, o projeto ganhou o nome de Jupyter Notebooks, passando Ipython a se referir Ipython a se referir ao servidor de _kernels_ (unidades computacionais) por traz da interface de programação. Nos anos seguintes, novas funcionalidades e suporte às mais diversas linguagens de programação foram adicionadas, fazendo com que crescesse imensamente o seu uso. Em 2018, foi lançado o Jupyter Lab, que amplia significativamente as ferramentas disponíveis para desenvolvimento por notebooks, o que leva alguns a o chamarem de \"Jupyter Notebooks com esteroides)\"."
   ]
  },
  {
   "cell_type": "markdown",
   "metadata": {
    "hidden": true
   },
   "source": [
    "o Jupyter apresenta, no nosso navegador de internet, uma interface (jupyter dashboard) para os diretórios do computador , a partir da qual podemos, entre outras coisas, criar, acessar, renomear e deletar notebooks, que são salvos com a extensão .ipynb. Trata-se da interface exposta adiante:\n",
    "\n",
    "**Figura 2: Jupyter Dashboard - Interface de navegação entre arquivos .ipynb**\n",
    "_______\n",
    "![]({{ site.baseurl }}/images/jupyter_dashboard.png \"Dashboard Jupyter Notebook\")\n",
    "_______"
   ]
  },
  {
   "cell_type": "markdown",
   "metadata": {
    "hidden": true
   },
   "source": [
    "Ao abrirmos um jupyter notebook, temos acesso à interface do Jupyter Editor, por meio da qual podemo redigir texto e código nas células do documento. De cima para baixo, conforme a imagem abaixo, temos uma barra de cabeçalho -_header_-, a barra de menu -menubar-, com diversas seções (File, Edit, View etc.), e barra de ferramentas -_toolbar_-, com botões para acesso rápido às principais funcionalidades, entre elas salvar, adicionar novas células, recortar, colar, executar - _run_ -, interromper etc.<br>\n",
    "<br>\n",
    "\n",
    "**Figura 3: Jupyter Editor - Interface de edição e execução de Notebooks**\n",
    "_______\n",
    "![]({{ site.baseurl }}/images/jupyter_interface_edicao.png \"Interface de Edição Jupyter Notebook\")\n",
    "_______"
   ]
  },
  {
   "cell_type": "markdown",
   "metadata": {
    "hidden": true
   },
   "source": [
    "Após essa porção superior, com as barras, encontramos a área do documento interativo em si, composta por células de tipo código e Markdown. Podemos inserir novas células, seja por meio dos controles na barra de ferramentas, seja a partir de atalhos (o que é amplamente utilizado). É possível se navegar entre células e dentro de cada célula. Isso ocorre, pois o editor apresenta dois estados básicos: o **modo de navegação** e o **modo de edição de célula**.\n",
    "\n",
    "No **modo de navegação**, ao pressionarmos os botões _up_ e _down_ do nosso teclado - setas para cima e para baixo -, movemos uma caixa de selação entre as células. Sabemos que estamos em modo de navegação quando a lateral esquerda da caixa de seleção se encontra com uma margem azul (veja a Figura 2). Caso estejamos dentro de uma célula, no modo edição, podemos pressionar _Esc_ no teclado para voltar para o modo de navegação. \n",
    "\n",
    "No modo de navegação, simplesmente pressionar certas teclas no teclado já significa utilizá-las como atalho para algumas funcionalidades. Podemos inserir célula de código acima (A), abaixo (B), mudar a célula para tipo Markdown(M), ou para tipo código (Y), além de visualizar todas as teclas de atalho (H), entre tantas outras funcionalidades. \n",
    "\n",
    "Ao pressionar Shift+Enter ou Ctrl+Enter executamos a célula atualmente selecionada, o que renderiza a edição de texto, caso estejamos em uma célula Markdown, ou executa o código, caso se trate de uma célula de código. A diferença entre ambos os comandos é o primeiro avança para a próxima célula, ou cria uma nova, enquanto o segundo mantém a seleção sobre a célula recém-executada.\n",
    "\n",
    "\n",
    "Quando estamos em modo de navegação, ao pressionar Enter sobre uma célula, acessamos o seu conteúdo, entrando para o **modo de edição**. Nesse modo, simplesmente pressionar as letras, números e caracteres especiais do teclado não corresponde a acionar qualquer atalho, mas inserir na célula os caracteres correspondentes. O modo de edição é identificável por uma margem verde no lado esquerdo da célula selecionada.\n",
    "\n",
    "Agora podemos avançar para entendermos como utilizar as células de tipo Markdown. Markdown é uma linguagem de marcação bastante simples e de fácil utilização, por meio da qual podemos criar textos formatados. A próxima célula, não renderizada, mostra alguns exemplos de formatação texto, enquanto a célula seguinte mostra esses exemplos já renderizados.\n",
    "<br>\n",
    "<br>\n",
    "\n",
    "**Célula de Exemplo 1: notações de formatação em Markdown não renderizadas**"
   ]
  },
  {
   "cell_type": "markdown",
   "metadata": {
    "hidden": true
   },
   "source": [
    "__________________________________________\n",
    "**trecho em negrito**.\n",
    "\n",
    "_trecho em itálico_\n",
    "\n",
    "~~riscado~~\n",
    "\n",
    "* marcador\n",
    "    * marcador subordinado\n",
    "\n",
    "1. Primeiro item de uma lista ordenada\n",
    "1. Segundo item de uma lista ordenada \n",
    "    1. Subitem de uma lista ordenada\n",
    "    \n",
    "```python\n",
    "s = \"destaque de código\"\n",
    "print s\n",
    "```\n",
    "\n",
    "[Exemplo de link para o _Google website_](https://www.google.com)\n",
    "__________________________________________"
   ]
  },
  {
   "cell_type": "markdown",
   "metadata": {
    "hidden": true
   },
   "source": [
    "**Célula de Exemplo 2: notações de formatação em Markdown renderizadas**"
   ]
  },
  {
   "cell_type": "markdown",
   "metadata": {
    "hidden": true
   },
   "source": [
    "_______\n",
    "**trecho em negrito**.\n",
    "\n",
    "_trecho em itálico_\n",
    "\n",
    "~~riscado~~\n",
    "\n",
    "* marcador\n",
    "    * marcador subordinado\n",
    "\n",
    "1. Primeiro item de uma lista ordenada\n",
    "1. Segundo item de uma lista ordenada\n",
    "    1. Subitem de uma lista ordenada\n",
    "    \n",
    "```python\n",
    "s = \"destaque de código\"\n",
    "print s\n",
    "```\n",
    "\n",
    "[Exemplo de link para o _Google website_](https://www.google.com)\n",
    "\n",
    "\n",
    "_______"
   ]
  },
  {
   "cell_type": "markdown",
   "metadata": {
    "hidden": true
   },
   "source": [
    "Em células Markdown, um título é destacado ao colocarmos o símbolo # no início de uma frase. Títulos de nível 1 começam com um sustenido, enquanto aqueles de nível dois começam com dois, e assim sucessivamente. Não é adequado colocarmos um exemplo aqui, pois isso interferiria na estrutura de títulos deste próprio notebook. Para verificar como cada título é feito, basta adentrar em qualquer célula de título deste notebook com Enter.\n",
    "\n",
    "Por padrão, operações computacionais não são calculadas em células de tipo markdown. Assim, de maneira geral, 1+1, em uma célula de texto não retorna o resultado 2. O mesmo é verdade para qualquer outro tipo de operação com Python. Caso seja útil para algum projeto, é possível inserir trechos executáveis em células markdown, o que pode gerar textos atualizáveis automaticamente. Isso é feito por meio de extensões, Nbextensions.\n",
    "\n",
    "Existem diversas fontes _on-line_ de informações sobre notações para formatação de texto em Markdown. Na [documentação do Jupyter Notebook](https://jupyter-notebook.readthedocs.io/en/stable/examples/Notebook/Working%20With%20Markdown%20Cells.html) é possível ver alguns exemplos. Caso necessitemos de auxílio em Português, uma breve busca na internet trará dezenas de tutoriais, guias e exemplos úteis."
   ]
  },
  {
   "cell_type": "markdown",
   "metadata": {
    "hidden": true
   },
   "source": [
    "Quando passamos às células de código, por sua vez, os caracteres inseridos passam a ser _inputs_ com significado particular para a linguagem de programação em uso, de tal forma que, ao serem executadas, uma unidade de processamento interativa (_kernel_) é acionada, retornando o resultado de uma operação computacional. As células de código apresentam duas partes básicas, **_In_**, em que inserimos o código, e **_Out_**, em que obtemos resultados, quando a operação descrita no código assim o requerer. Operações de armazenamento de variáveis, por exemplo, não geram representação em Out.\n"
   ]
  },
  {
   "cell_type": "markdown",
   "metadata": {
    "hidden": true
   },
   "source": [
    "À esquerda das células de código, chaves são dispostas e seu conteúdo nos indica o status de execução. Assim, temos células que não foram executadas - nenhuma informação entre as chaves -, que estão em execução - asterisco entre as chaves - e já executadas - número de ordem da execução. Na figura abaixo podemos observar uma célula já executada (observe a numeração em In) e acionada em modo edição (margem verde à esquerda). \n",
    "\n",
    "\n",
    "**Figura 4: Célula de Código - Interface de edição e execução de Notebooks**\n",
    "![]({{ site.baseurl }}/images/célula de código.png \"Modo Edição em Célula Jupyter Notebook\")\n",
    "\n",
    "\n",
    "Este blog, na realidade, é feito em Jupyter Notebook. O código abaixo é feito em células como essas acima e uma solução on-line chamada FastPages renderiza os exemplos de código abaixo, com seus resultados.\n",
    "________"
   ]
  },
  {
   "cell_type": "code",
   "execution_count": null,
   "metadata": {
    "ExecuteTime": {
     "end_time": "2020-09-05T09:16:39.091071Z",
     "start_time": "2020-09-05T09:16:39.082095Z"
    },
    "hidden": true
   },
   "outputs": [],
   "source": [
    "1 + 1 "
   ]
  },
  {
   "cell_type": "code",
   "execution_count": null,
   "metadata": {
    "ExecuteTime": {
     "end_time": "2020-09-05T09:16:39.720836Z",
     "start_time": "2020-09-05T09:16:39.716827Z"
    },
    "hidden": true
   },
   "outputs": [],
   "source": [
    "3 * 3"
   ]
  },
  {
   "cell_type": "code",
   "execution_count": null,
   "metadata": {
    "ExecuteTime": {
     "end_time": "2020-09-05T00:58:46.453848Z",
     "start_time": "2020-09-05T00:58:46.445141Z"
    },
    "hidden": true
   },
   "outputs": [],
   "source": [
    "from platform import python_version\n",
    "print(\"Versão do Python: \", python_version())"
   ]
  },
  {
   "cell_type": "markdown",
   "metadata": {
    "hidden": true
   },
   "source": [
    "______\n",
    "\n",
    "De maneira geral, ao longo do curso, faremos uso dessa interatividade, de forma que, após a exposição de conceitos básicos, possamos aplicá-los na prática, por meio de elaboração e execução de breves operações em Python nessas células de código. Já que estamos nesse tema, passemos adiante à elaboração de um código bastante importante na tradição do aprendizado de linguagens de computação."
   ]
  },
  {
   "cell_type": "markdown",
   "metadata": {
    "heading_collapsed": true
   },
   "source": [
    "## Um Ritual"
   ]
  },
  {
   "cell_type": "markdown",
   "metadata": {
    "ExecuteTime": {
     "end_time": "2020-09-05T00:52:51.343772Z",
     "start_time": "2020-09-05T00:52:51.327555Z"
    },
    "hidden": true
   },
   "source": [
    "Como tradição que remonta a milênios, aqueles que querem ser iniciados, que querem compreender os segredos dos códigos e da fé, devem escrever um primeiro programa que convoque a CPU para trazer sua mensagem de saudação ao mundo:\n",
    "\n",
    "Assim, na célula seguinte, escreva as duas linhas destacadas abaixo: \n",
    "\n",
    "```Python\n",
    "\n",
    "mensagem = 'Hello world!'\n",
    "\n",
    "print(mensagem)\n",
    "```\n",
    "\n",
    "\n",
    "\n",
    "Para encerrar o ritual, com a célula ativada, pressione shift+Enter, ou clique no botão Run, na barra de ferramentas acima."
   ]
  },
  {
   "cell_type": "code",
   "execution_count": null,
   "metadata": {
    "hidden": true
   },
   "outputs": [],
   "source": []
  },
  {
   "cell_type": "markdown",
   "metadata": {},
   "source": [
    "## Sobre a abordagem"
   ]
  },
  {
   "cell_type": "markdown",
   "metadata": {},
   "source": [
    "Existem várias abordagens para o aprendizado de linguagens da programação. Os cursos elaborados por desenvolvedores, que são muito voltados para a solução de problemas, procuram utilizar projetos como pontos de partida. Assim, conforme raciocinamos sobre como poderíamos resolver a questão, certos conceitos de programação e particularidades do funcionamento da linguagem Python são introduzidos.\n",
    "\n",
    "Essa abordagem é ótima e deve ser encarada por iniciantes para desenvolver essa inclinação para solução de problemas. No entanto, o custo dessa abordagem, para alguém que se encontra muito no início do aprendizado, é uma sensação de certa alienação em relação a uma visão geral da linguagem, com sua estrutura, funcionamento e principais ferramentas. Ao aprender cada ferramenta conforme surge a necessidade em um projeto - no início do aprendizado, porque, na realidade, esse tipo de aprendizado jamais acaba -, não é raro que não tenhamos uma ideia da trajetória, de uma proporção de aprendizado alcançado em relação a um objetivo de conhecimento. A rigor, não sabemos quanto de Python aprendemos. Sabemos fazer soluções com o que sabemos, o que é ótimo, mas resta a dúvida sobre o grau desse aprendizado.\n",
    "\n",
    "Por outro lado, um aprendizado procedimental, em que se trate do conjunto de ferramentas em Python, segundo certas categorias (tipos de dados, tipos de operações, tipos de circunstâncias etc.) tem a vantagem de criar uma visão geral da tecnologia, de dar uma ideia de quanto de avanço quotidiano temos em termos da operacionalização básica da linguagem. Isso ajuda na escolha consciente de quais pontos queremos aprender a fundo e quais pontos podemos deixar para depois.\n",
    "\n",
    "Outra vantagem é que existe um componente emocional no aprendizado que não pode ser ignorado. As dúvidas se avolumam. Será que vamos aprender? Será que conseguiremos utilizar a ferramenta? Aprendemos o suficiente? Ao se ter uma visão geral das ferramentas, podemos fazer uma melhor gestão dessas incertezas, de forma a conseguir uma confiança que nos faça mais confortáveis e abertos para o aprendizado. É a partir daí que podemos nos dizer, conscientemente coisas como: \"são 68 funções nativas em Python, mas algumas raramente são utilizadas, enquanto outras são muito mais frequentes, logo vou aprender mais a fundo essas funções mais frequentes e jamais ficar ansioso por não saber exatamente cada uma delas\"; \"Python tem dois tipos básicos de dados, simples e compostos, eu tenho uma base sobre as principais características desses principais tipos e agora consigo ser autônomo para buscar auxílio _on-line_, quando precisar implementar um detalhe desses objetos que ainda não estudei\".\n",
    "\n",
    "Outra vantagem dessa abordagem é que, para aqueles bem iniciantes, que já têm algum contato com ferramentas como Microsoft Excel, encaminhamento de soluções já aparece no seu quotidiano, o que falta é uma visão geral da linguagem da programação que use esse conhecimento prévio de planilhas (tipos de dados, fórmulas etc.) como ponto comum para mais fácil apreensão da linguagem. A enorme desvantagem dessa abordagem, no entanto, é que ela é bastante insuficiente para apresentar, de fato, a aplicação dessas ferramentas, conjuntamente, na forma dde soluções para problemas. Existe um certo\n",
    "\n",
    "Por essa razão, nesta sequência de conversas que teremos por aulas adiante, o que tentaremos fazer é mitigar essas duas situações, de forma que maximizemos as vantagens e minimizemos as desvantagens de cada uma das abordagens. Assim, o curso está estruturado em duas partes, na primeira, tentamos passar uma visão geral do Python. Para tanto, partimos de uma classificação em seis categorias de ferramentas da linguagem, que, se não engloba tudo que se deve saber, dá conta de apresentar mais de 90% de seus componentes com os quais interagimos e sobre os quais aprenderemos não só nesse curso, mas em toda nossa trajetória de aprendizado, com nossas aplicações práticas, erros e acertos, novos livros, cursos, projetos, palestras, conversas em um café (pode chamar!) etc."
   ]
  },
  {
   "cell_type": "markdown",
   "metadata": {},
   "source": [
    "## Estrutura do Curso"
   ]
  },
  {
   "cell_type": "markdown",
   "metadata": {},
   "source": [
    "A linguagem Python é um campo muito amplo para nosso conhecimento. Por essa razão, para explorarmos esse vasto mundo, precisamos agrupar esses assuntos em poucas categorias, que nos auxiliem a identificar cada uma das ferramentas integrantes. Por essa razão, dividimos o aprendizado neste curso em Dados, Ações, Circunstâncias, Revisão, Customização e Expansão, conforme mostra a Figura 2.\n",
    "\n",
    "\n",
    "**Figura 5: Chaves de Interpretação das Ferramentas em Python**"
   ]
  },
  {
   "cell_type": "markdown",
   "metadata": {},
   "source": [
    "______\n",
    "\n",
    "![]({{ site.baseurl }}/images/python_overview.png \"Python Overview - Python Visão Geral\")\n",
    "______"
   ]
  },
  {
   "cell_type": "markdown",
   "metadata": {},
   "source": [
    "**Dados**\n",
    "\n",
    "Python nos fornece matérias-primmas com as quais vamos trabalhar, na forma de dados. Os dados são os elementos que queremos armazenar, recuperar e processar, de forma a que, tenhamos um determinado resultado desejado. De partida, alguns tipos básicos de dados são fornecidos pela linguagem, que chamamos de tipos nativos.\n",
    "\n",
    "Esses tipos básicos podem ser simples ou compostos. Cada dado que armazenamos em um tipo simples se encontra em um endereço específico da memória. Esses tipos podem ser numéricos (números inteiros ou decimais), boleanos (valores lógicos verdadeiro ou falso), ou de valor Nulo. Existem outros tipos básicos, como números complexos. No entanto, para início de estudos, esses dados irão compor mais de 90% de nossas necessidades.\n",
    "\n",
    "Os dados também podem ser compostos, ou seja, podem se referir a objetos computacionais que servem como contêineres de outros dados, inclusive outros dados compostos. Vamos nos aprofundar nesses temas a seu tempo. por ora, basta que saibamos que existem listas (sequências ordenadas de quaisquer tipos de dadosmm simples ou compostos), dicionários(contêineres de pares chave:valor), tuplas (semelhantes às listas, mas imutáveis) e conjuntos (objetos compostos que não aceitam valores duplicados).\n",
    "\n",
    "Entre os dados compostos também se encontram as _strings_ que são contêineres de caracteres. Para entendermos strings, devemos identificar que os aparentes textos que podem nelas aparecer, na realidade são coleções de caracteres salvos em diferentes posições da memória e identificados pelo contêiner."
   ]
  },
  {
   "cell_type": "markdown",
   "metadata": {},
   "source": [
    "**Ações**\n",
    "\n",
    "Já que estmos tratando de uma linguagem, podemos entender os dados como os substantivos, ou seja, as categorias que dão nome às coisas. No entanto, para uma linguagem, precisamos também de verbos. É isso que temos quando olhamos para o conjunto de ferramentas que nos permitem ações em Python. Assim, temos os operadores, as funções e os métodos.\n",
    "Operadores são caracteres especiais que apresentam alguma operação associada, tais como operadores matemáticos (+, -, *, / etc.), operadores comparativos (< > !=, ==), operadores lógicos (and, or e not), entre outros. Temos também as funções (nativas e desenvolvidas pelo usuário), que são operações com seus respectivos nomes e estrutura de execução de rotinas (print(argumento), para apresentar na tela um determinado valor, indicado como argumento, entre parênteses, por exemplo).\n",
    "\n",
    "Entre as formas de se realizar ações em Python, também se contam os métodos. Os métodos são mecanismos funcionais ligados intimamente a determinado objeto. Enquanto uma função pode aceitar diversos tipos de objetos como argumento a partir do qual podem ser executadas, os métodos são dependentes dos seus objetos específicos. A  notação de um método é distinta à da função.\n",
    "\n",
    "\n",
    "\n",
    "São"
   ]
  },
  {
   "cell_type": "markdown",
   "metadata": {},
   "source": [
    "**Circunstâncias**\n",
    "\n",
    "Aquilo que chamamos aqui de circunstâncias, são palavras-chave que criam diferentes condicionamentos para o funcionamento de um determinado código. São palavras chaves como if, for, while e with, e outras a elas associadas, que criam condições sem as quais um determinado bloco de código não deve funcionar, deve funcionar continuamente, por um determinado número de repetições ou associado a uma determinada rotina, tida como contexto. "
   ]
  },
  {
   "cell_type": "markdown",
   "metadata": {},
   "source": [
    "**Revisão**\n",
    "\n",
    "Novamente utilizando da analogia da linguagem humana como aproximação para o entendimento da linguagem computacional, podemos entender que o conjunto de operações programadas a partir das palavras e operadores de dados, ações e circunstâncias mencionados acima podem conter erros. Nesse sentido, uma série de ferramentas são disponíveis em Python para que possammos identificar um erro ou criar um alerta de erro, quando uma regra por nós estabelecida não for cumprida.\n",
    "São..."
   ]
  },
  {
   "cell_type": "markdown",
   "metadata": {},
   "source": [
    "**Customização**\n",
    "\n",
    "Os dados originais em Python são bastante aproveitados por nós em todos os nosso fluxos de trabalho, para qualquer tipo de trabalho. No entanto, eles não são suficientes para lidar com tarefas muito complexas, de forma que precisamos de novos tipos de objetos, com seus próprios, valore e comportamentos próprios. Quando custamizamos, podemos tomar uma lista básica e, a partir dela, derivar um novo objeto que tenha novos comportamentos, como não aceitar valores nulos, somente aceitar textos etc.\n",
    "\n",
    "De customização em customização, podemos chegar a objetos bastante complexos: servidores de internet, bancos de dados, tensores matemáticos multidimensionais, redes neurais, ambientes virtuais em 3d para games etc. \n",
    "\n",
    "Se quisermos trabalhar com esses tipos de dados muito complexos, devemos construí-los do zero, nós mesmos, correto? Errado! Para isso podemos contar com expansão dos tipos e funcionalidades do Python."
   ]
  },
  {
   "cell_type": "markdown",
   "metadata": {},
   "source": [
    "**Expansão**\n",
    "\n",
    "As funcionalidades e tipos básicos do Python podem ser expandidos por meio de módulos, pacotes e bibliotecas disponíveis para que sejam importadas em nosso código. Ao importar esses objetos, estamos obtendo códigos anteriormente produzido que nos garante ganhos de produção nas nossas diversas atividades. Esses módulos podem se encontrar na própria distribuição do Python que temos instalada, em repositórios que recebem contribuições de toda a comunidade pythonista, bem como de outros, agora sim, elaboradados por nós mesmos.\n",
    "\n",
    "Com isso, se queremos criar um banco de dados, fazer um _website_, gerar um jogo, fazer análises estatísticas, elaborar servidores de mapas, gerar interfaces gráficas para usuários, ou mesmo criar modelagem com _deep learning_, podemos contar com esses pacotes produzidos e consistidos pela comunidade para vançar em nossos trabalhos. "
   ]
  }
 ],
 "metadata": {
  "kernelspec": {
   "display_name": "aulas",
   "language": "python",
   "name": "aulas"
  },
  "language_info": {
   "codemirror_mode": {
    "name": "ipython",
    "version": 3
   },
   "file_extension": ".py",
   "mimetype": "text/x-python",
   "name": "python",
   "nbconvert_exporter": "python",
   "pygments_lexer": "ipython3",
   "version": "3.8.5"
  },
  "toc": {
   "base_numbering": 1,
   "nav_menu": {},
   "number_sections": true,
   "sideBar": true,
   "skip_h1_title": true,
   "title_cell": "Table of Contents",
   "title_sidebar": "Contents",
   "toc_cell": false,
   "toc_position": {
    "height": "calc(100% - 180px)",
    "left": "10px",
    "top": "150px",
    "width": "165px"
   },
   "toc_section_display": true,
   "toc_window_display": false
  }
 },
 "nbformat": 4,
 "nbformat_minor": 4
}
