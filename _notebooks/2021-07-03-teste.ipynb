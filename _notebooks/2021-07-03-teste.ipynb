{
 "cells": [
  {
   "cell_type": "markdown",
   "metadata": {},
   "source": [
    "# \"Aula 1 \"\n",
    "> \"Uma abordagem didática para iniciantes\"\n",
    "\n",
    "- toc: true\n",
    "- branch: master\n",
    "- badges: true\n",
    "- comments: true\n",
    "- author: Augusto dos Santos Pereira\n",
    "- categories: [Python Para Iniciantes]"
   ]
  },
  {
   "cell_type": "markdown",
   "metadata": {},
   "source": [
    "## Para início de conversa\n",
    "\n",
    "Bem-vindo ao nosso curso Python para iniciantes!\n",
    "\n",
    "Este curso é um esforço para a auxiliar aquelas pessoas que, como eu há algum tempo atrás, não têm qualquer familiaridade com linguagem de programação, mas gostariam de utilizar [Python](https://www.python.org/) como ponto de partida em uma trajetória de capacitação para melhor desempenho profissional. Dessa forma, a estrutura, os exemplos, os exercícios e o ritmo deste curso foram cuidadosamente pensados para servir como ponto de partida no aprendizado da programação. Assim, espera-se que, ao final, os participantes do curso possam ter uma visão geral dessa linguagem de programação e uma base sólida para avançar futuramente sobre temas mais complexos. \n",
    "\n",
    "O curso conta com alguns vídeos, aulas ao vivo, on-line, que são ofertadas frequentemente, e com o presente conjunto de documentos interativos, chamados Jupyter Notebooks.\n",
    "\n",
    "Mas afinal, porque iniciar uma trajetória de aprendizado na linguagem Python? Aqui vão algumas considerações que podem nos ajudar a responder a esssa questão. Python:\n",
    "\n",
    "* é uma linguagem multi-propósito, o que permite fazer análise de dados, jogos, aplicativos, websites e tantos outros seviços;\n",
    "* é considerada uma boa linguagem de programação para iniciantes, dada sua sintaxe simples;\n",
    "* é uma das linguagens de programação mais utilizadas na atualidade, de acordo com o repositório de codigos [Github](https://madnight.github.io/githut/#/pull_requests/2020/2);\n",
    "* é, na atualidade, a base do ecossistema mais robusto para Ciência de Dados e Machine Learning;\n",
    "* apresenta uma imensa quantidade bibliotecas de terceiros, com diversas finalidades, que facilitam o desenvolvimento;\n",
    "* conta com uma comunidade de desenvolvimento bastante ativa, sempre disposta a compartilhar informações e conhecimento.\n",
    "\n",
    "Para tirarmos o maior proveito deste curso, precisamos nos familiarizar com este ambiente interativo em que a parte textual e prática de nosso curso está ocorrendo, o que faremos na seção seguinte.\n",
    "\n",
    "## Conhecendo o Jupyter Notebook\n",
    "\n",
    "Este ambiente aqui, em que se encontra a parte escrita de nosso curso, é um **Jupyter Notebook**. Notebooks são excelentes mecanismos para se trabalhar com dados a partir de programação, pois eles agregam células de textos formatáveis e células de código, em que são executados nossos programas de maneira interativa. Por essa interatividade, podemos visualizar diversos tipos de resultados de códigos, inclusive com renderização de tabelas, gráficos, mapas, grafos, fórmulas matemáticas etc.\n",
    "\n",
    "Por essa razão, notebooks têm sido utilizados amplamente no fluxo de trabalho de Ciência de Dados, desde a obtenção e o tratamento dos dados, passando para a análise exploratória, até a modelagem e divulgação de resultados. A respeito da divulgação de análises, diversos artigos científicos de peso já têm sido submetidos a partir de notebooks como este. Isso garante que avaliadores, a comunidade científica em geral e quaisquer interessados possam não só ler os resultados e observar os produtos gráficos de apoio, mas também verificar o funcionamento do código que dá base para a publicação, o que permite avaliá-lo, validá-lo e reproduzi-lo em novos trabalhos.\n",
    "\n",
    "Os exemplos abaixo são de código que dão sustentação a algumas análises sobre a difusão territorial da Covid-19 enntre municípios brasileiros. Os resultados foram aceitos pela Hygeia - Revista Brasileira de Geografia da Saúde - e estarão disponíveis on-line em breve.\n",
    "\n",
    "**Figura 1: Renderização de figura cartográfica, tabela e gráfico a partir de código Python em Jupyter Notebook** - \n",
    "\n",
    "![]({{ site.baseurl }}/images/figura_renderizada_nb.png \"Cartograma Renderizado em Notebook\")\n",
    "\n",
    "![]({{ site.baseurl }}/images/tabela_renderizada_nb.png \"Tabela Renderizada em Notebook\")\n",
    "\n",
    "![]({{ site.baseurl }}/images/grafico_renderizado_nb.png \"Gráfico Renderizado em Notebook\")\n",
    "\n",
    "Da mesma forma, em trabalhos técnicos, notebooks podem ser utilizados como verdadeiras notas técnicas interativas. A publicação de livros também tem sido um campo de aplicação desses ambientes de programação. Existem casos de livros que foram feitos inteiramente em notebooks, com divulgação interativa associada aos volumes físicos, como é o caso do livro [Deep Learning for Coders with fastai and PyTorch](https://mybinder.org/v2/gh/fastai/fastbook/master).\n",
    "\n",
    "Ainda quanto a sua aplicação, avanços têm sido feitos na utilização de notebooks como plataformas de distribuição final - _deployment_ - de aplicativos e serviços _web_, como, por exemplo, na forma de painéis temáticos de visualização de dados - _dashboards_. No entanto, ainda existem grandes limitações para seu uso em diversas dessas finalidades. Assim, na maior parte dos casos, o notebook é utilizado como uma ferramenta dinâmica, para obtenção, tratamento e análise de dados, que deixa de ser considerada na fase de deployment, em que ferramentas mais tradicionais de programação são utilizadas, tais como editores de textos e as IDEs - Integrated Development Environment, associadas a servidores _on-line_, serviços de distribuição e a contêineres em nuvem.\n",
    "\n",
    "Se muitos dos termos acima forem novos. Não precisamos nos preocupar. O importante a se reter aqui é que notebooks são poderosas ferramentas durante o fluxo de análise de dados com Python. Porém existem limitações e, a depender de nosso projeto de aprendizado e de aplicação dos conhecimentos de programação, novas ferramentas de construção de código precisarão ser consideradas no futuro.\n",
    "\n",
    "Por sua aplicação em operações com dados, diversos serviços em nuvem oferecem a possibilidade de programação por meio de Jupyter Notebooks, entre elas Microsoft Azure, Google Cloud e Amazon AWS. Da mesma forma, mesmo IDEs têm recebido interface com notebooks para permitir que desenvolvedores utilizem suas potencialidades.\n",
    "\n",
    "A princípio, o projeto Ipython oferecia ambiente de programação interativo voltado para Python. A partir de 2014, o projeto contava com suporte para as linguagens Julia, Python e R, o que gerou o acrônimo Jupyter. Desde então, o projeto ganhou o nome de Jupyter Notebooks, passando Ipython a se referir Ipython a se referir ao servidor de _kernels_ (unidades computacionais) por traz da interface de programação. Nos anos seguintes, novas funcionalidades e suporte às mais diversas linguagens de programação foram adicionadas, fazendo com que crescesse imensamente o seu uso. Em 2018, foi lançado o Jupyter Lab, que amplia significativamente as ferramentas disponíveis para desenvolvimento por notebooks, o que leva alguns a o chamarem de \"Jupyter Notebooks com esteroides)\"."
   ]
  }
 ],
 "metadata": {
  "kernelspec": {
   "display_name": "aulas",
   "language": "python",
   "name": "aulas"
  },
  "language_info": {
   "codemirror_mode": {
    "name": "ipython",
    "version": 3
   },
   "file_extension": ".py",
   "mimetype": "text/x-python",
   "name": "python",
   "nbconvert_exporter": "python",
   "pygments_lexer": "ipython3",
   "version": "3.6.10"
  }
 },
 "nbformat": 4,
 "nbformat_minor": 4
}
