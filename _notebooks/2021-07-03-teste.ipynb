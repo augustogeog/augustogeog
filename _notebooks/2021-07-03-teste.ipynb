{
 "cells": [
  {
   "cell_type": "markdown",
   "metadata": {},
   "source": [
    "# \"Aula 1 \"\n",
    "> \"Uma abordagem didática para iniciantes\"\n",
    "\n",
    "- toc: true\n",
    "- branch: master\n",
    "- badges: true\n",
    "- comments: true\n",
    "- author: Augusto dos Santos Pereira\n",
    "- categories: [Python Para Iniciantes]"
   ]
  },
  {
   "cell_type": "markdown",
   "metadata": {},
   "source": [
    "## Para início de conversa\n",
    "\n",
    "Bem-vindo ao nosso curso Python para iniciantes!\n",
    "\n",
    "Este curso é um esforço para a auxiliar aquelas pessoas que, como eu há algum tempo atrás, não têm qualquer familiaridade com linguagem de programação, mas gostariam de utilizar [Python](https://www.python.org/) como ponto de partida em uma trajetória de capacitação para melhor desempenho profissional. Dessa forma, a estrutura, os exemplos, os exercícios e o ritmo deste curso foram cuidadosamente pensados para servir como ponto de partida no aprendizado da programação. Assim, espera-se que, ao final, os participantes do curso possam ter uma visão geral dessa linguagem de programação e uma base sólida para avançar futuramente sobre temas mais complexos. \n",
    "\n",
    "O curso conta com alguns vídeos, aulas ao vivo, on-line, que são ofertadas frequentemente, e com o presente conjunto de documentos interativos, chamados Jupyter Notebooks.\n",
    "\n",
    "Mas afinal, porque iniciar uma trajetória de aprendizado na linguagem Python? Aqui vão algumas considerações que podem nos ajudar a responder a esssa questão. Python:\n",
    "\n",
    "* é uma linguagem multi-propósito, o que permite fazer análise de dados, jogos, aplicativos, websites e tantos outros seviços;\n",
    "* é considerada uma boa linguagem de programação para iniciantes, dada sua sintaxe simples;\n",
    "* é uma das linguagens de programação mais utilizadas na atualidade, de acordo com o repositório de codigos [Github](https://madnight.github.io/githut/#/pull_requests/2020/2);\n",
    "* é, na atualidade, a base do ecossistema mais robusto para Ciência de Dados e Machine Learning;\n",
    "* apresenta uma imensa quantidade bibliotecas de terceiros, com diversas finalidades, que facilitam o desenvolvimento;\n",
    "* conta com uma comunidade de desenvolvimento bastante ativa, sempre disposta a compartilhar informações e conhecimento.\n",
    "\n",
    "Para tirarmos o maior proveito deste curso, precisamos nos familiarizar com este ambiente interativo em que a parte textual e prática de nosso curso está ocorrendo, o que faremos na seção seguinte."
   ]
  }
 ],
 "metadata": {
  "kernelspec": {
   "display_name": "aulas",
   "language": "python",
   "name": "aulas"
  },
  "language_info": {
   "codemirror_mode": {
    "name": "ipython",
    "version": 3
   },
   "file_extension": ".py",
   "mimetype": "text/x-python",
   "name": "python",
   "nbconvert_exporter": "python",
   "pygments_lexer": "ipython3",
   "version": "3.6.10"
  }
 },
 "nbformat": 4,
 "nbformat_minor": 4
}
