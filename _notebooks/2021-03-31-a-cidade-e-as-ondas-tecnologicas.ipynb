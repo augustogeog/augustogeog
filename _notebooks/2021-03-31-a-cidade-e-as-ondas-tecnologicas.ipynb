{
 "cells": [
  {
   "cell_type": "markdown",
   "metadata": {},
   "source": [
    "# \"A Cidade e as Ondas Tecnológicas\"\n",
    "> \"Desafios da Gestão Urbana na Era dos Dados\"\n",
    "\n",
    "- toc: true\n",
    "- branch: master\n",
    "- badges: false\n",
    "- comments: true\n",
    "- author: Augusto dos Santos Pereira\n",
    "- categories: [Cidade, Planejamento Urbano-Regional]"
   ]
  },
  {
   "cell_type": "markdown",
   "metadata": {},
   "source": [
    "## Ritmos de Mudanças Técnicas e as Transformações da Cidade\n",
    "\n",
    "A cidade apresenta um conjunto enorme de desafios de toda ordem - ambientais, sociais, econômicos, simbólicos de infraestrutura etc. Há alguns séculos, esses conjuntos de desafios tomam diferentes qualidades e volumes conforme o decorrer de sucessivos paradigmas técno-econômicos, ou seja, segundo a prevalência de ciclos em que certas famílias tecnológicas dão a tônica da modernização econômica.\n",
    "\n",
    "Durante o paradigma das máquinas a vapor, a modernização corresponde à automação com base na difusão de caldeiras que utilizam a queima de carvão para movimentar maquinários, à moda dos teares de Birmingham e Manchester. A tecnologia se expande, moderniza tanto a produção como os transportes, com os trens e barcos a vapor. Como consequência desse **processo**, a cidade muda em seu **conteúdo** (presença de unidades industriais, aporte de imigrantes rurais para trabalho no setor etc.), **função** (novo papel de fornecimento de produtos industrializados), **estrutura** (formação de bairros industriais, bairros operários, áreas de entrepostos logísticos no entorno de estações ferroviárias etc.), **forma** (extravasamento de limites prévios segundo a onda de crescimento da mancha urbana, a partir das novas instalações industriais e populares) e **articulação regional** (crescimento da influência da cidade sobre vastas áreas a partir das interconexões ferroviárias e portuárias).\n",
    "\n",
    "![**Tear de james hargreaves**](https://raw.githubusercontent.com/augustogeog/augustogeog/master/assets/spinning-jenny.jpg)<br>**Tear de james hargreaves**<br>Fonte: [https://snl.no/Spinning_Jenny](https://snl.no/Spinning_Jenny)\n",
    "\n",
    "![**Máquina a Vapor de Watt**](https://raw.githubusercontent.com/augustogeog/augustogeog/master/assets/watts-steam-engine-589e99.jpg)<br>**Máquina a Vapor de Watt**<br>Fonte: [https://www.independent.co.uk/](https://www.independent.co.uk/)\n",
    "\n",
    "![](https://raw.githubusercontent.com/augustogeog/augustogeog/master/assets/stockton%26darlington_railway.jpg)<br>**Linha Férrea de Stockton & Darlington**<br>Fonte: [https://www.independent.co.uk/](https://www.independent.co.uk/)\n",
    "\n",
    "![](https://raw.githubusercontent.com/augustogeog/augustogeog/master/assets/manchester.png)<br>**Área Industrial em Manchester**<br>Fonte: [https://teesvalleymuseums.org/](https://teesvalleymuseums.org/)\n",
    "\n",
    "Esse padrão de mudanças no conteúdo, função, estrutura, forma e articulação regional das cidades é um elemento comum no processo de sucessão dos paradigmas tecno-econômicos. No paradigma formado ascensão das tecnologias siderúrgica, automobilística e elétrica, a cidade também passa por significativas mudanças. Os automóveis passam a reconfigurá-la, expandindo seu tecido. A presença de elevadores elétricos permite edifícios mais altos, com valorização de andares superiores, outrora desvalorizados, o que implica maior diferenciação nas estratégicas locacionais para imóveis e maior separação de áreas de moradia para pessoas com diferentes classes sociais. A vida noturna ganha um grande impulso, com maior capacidade de iluminação pública e de edifícios de eventos coletivos e culturais, como teatros e cinemas.\n",
    "\n",
    "A proliferação de mais avançadas tecnologias de telecomunicações e de informática, desde a década de 1970, também trouxe efeitos significativos em todos os quesitos mencionados, sobretudo no reforço ao papel da cidade como centro provedor de serviços. É nesse momento que a articulação urbano-regional toma proporções ainda maiores, em escala global. Isso permitiu uma reconfiguração dos papeis, a partir de uma nova divisão internacional do trabalho, em que o comando dos negócios das empresas transnacionais, além da pesquisa e o do desenvolvimento, mantiveram-se nas grandes cidades dos países centrais, enquanto, em países periféricos, ocorreu uma onda de industrialização e de metropolização. \n",
    "\n",
    "Em todos esses movimentos de mudanças técnico-econômicas, aquelas dimensões que abarcam desafios na cidade foram afetadas. foi tomada por diferentes desafios - poluição, questões sociais, reestruturação econômica, com perda de empregos e negócios etc.\n",
    "\n",
    "Um dos elementos marcantes desse tipo de mudança é que, eles contam com uma fase bastante abruta, em que os ganhos de adoção de um novo conjunto de tecnologias apresenta tal sinalização de lucratividade, que, por esses incentivos, as mudanças ocorrem de maneira abrupta a princípio, tornando-se mais lentas, conforme a maturação do paradigma. A figura abaixo pode justamente demonstrar isso. Nela, pode-se observar que, em 1900, a Quinta Avenida está tomada por charretes puxadas por cavalos, havendo apenas um automóvel. Treze anos depois, a situação é inversa, com apenas uma charrete sendo avistada em meio a dezenas de automóveis.\n",
    "\n",
    "![](https://raw.githubusercontent.com/augustogeog/augustogeog/master/assets/novaiorque_1910.png)<br>**Abrupta mudança em Nova Iorque, entre 1900, com predomínio de charretes, e 1913, com automóveis**<br>Fonte: [https://mashable.com/](https://mashable.com/)\n",
    "\n",
    "Em tal situação, podemos pensar os efeitos sobre as cadeias de negócios. Os relatos apontam que, em 1900, Nova Iorque contava com aproximadamente 100 mil cavalos, muitos dos quais utilizados em juntas para movimento de grande vagões para transporte público. Nesse contexto, não é difícil se imaginar os efeitos da sua radical substituição por automóveis  - diminuição de sujeira nas ruas, perda de emprego em estábulos, ramos de cuidados animais, cadeia de fornecimento de alimentos, trabalhos como cocheiros, que dão lugar a fornecimento de combustíveis, oficinas de reparos de automóveis, vagas de motoristas etc. Em todo o caso, não há garantia de imediata realocação da força de trabalho de um ramo em declínio em outro, em ascensão.\n",
    "\n",
    "## A Atual Onda Técnica e seus Desafios Urbanos\n",
    "\n",
    "Na atualidade, uma nova família de tecnologias encontra-se em desenvolvimento, arregimentando investimentos, pesquisa, qualificação profissional, empenho de empreendedores e fomento estatal. Ainda está para se confirmar o papel de algumas técnicas como parte desse grupo de soluções modernizadoras da economia e altamente pervasivas - impressão 3D, seria um exemplo. Seja como for, parece certo que as soluções intensivas em dados conformam o *core dessa onda tecnológica.*\n",
    "\n",
    "Soluções intensivas em dados é um termo bastante generalista aqui para denotar todo o avanço tecnológico que tem ocorrido na produção, armazenamento, obtenção, tratamento, análise e modelagem de dados computacionais nos mais diversos formatos\n",
    "\n",
    " O imenso **volume de dados** produzido pelas mais diversas fontes, a enorme capacidade de **processamento por soluções em nuvem**, ao que se somará a transmissão de **alta velocidade por 5G** e a recente convergência de interesses em algoritmos de redes neurais*, criou o cenário presente em que soluções baseadas em **machine learning** e, sobretudo, em **deep learning** se tornassem não só viáveis para ganhos nos mais diversos tipos de negócios, como base para* \n",
    "\n",
    "O **combustível dessa máquina modernizadora dos negócios são os dados** **computacionais**. Uma vez bem coletados, armazenados, catalogados e tratados, os mais diversos tipos de dados - textos, imagens, vídeos, sons, registros tabulares etc. - podem servir para aplicações as mais inovadoras. Coleções de imagens médicas têm servido para a geração de mecanismos de diagnósticos, prognósticos e, até mesmo, para identificação de padrões na evolução de doenças que não tinham sido anteriormente identificadas nas pesquisas de saúde. Os registros dos comportamentos dos consumidores têm permitido a formação de grupos com diferentes perfis de consumo, bem como adequação dos sistemas de sugestão de produtos e serviços. Dados de celulares permitem fazer previsão de trânsito e sugestão de rotas. Os exemplos podem se somar exaustivamente.\n",
    "\n",
    "Essa dinâmica de grandes volumes de dados aplicados a novas soluções estão permitindo o desenvolvimento daquilo que, na cidade, tende a ser o grande marco da atual onda tecnológica no espaço urbano, o carro elétrico autônomo.\n",
    "\n",
    "O carro autônomo é um fenômeno que, confirmadas as tendências, impactará significativamente as cidades, uma vez que será menos um automóvel com computador e mais um grande computador com rodas. Nesse sentido, as otimizações de uso serão notáveis. Enquanto a maior parte da frota atual é composta por bens que passam a maior parte do tempo parados, um veículo autônomo poderá passar o dia todo atendendo a viagens solicitadas por aplicativos. O efeito disso sobre os preços das corridas, a considerar também as diminuições de custos mecânicos e com energia elétrica, podem servir de incentivo para que as pessoas não tenham automóveis, mas usem cada vez mais serviços semelhantes ao Uber. Na prática, mais movimento na cidade, com menos automóveis.\n",
    "\n",
    "![https://s3-us-west-2.amazonaws.com/secure.notion-static.com/207df7da-234e-4224-9a36-a1efc60c2c20/Autonomous-driving-Barcelona.jpg](https://s3-us-west-2.amazonaws.com/secure.notion-static.com/207df7da-234e-4224-9a36-a1efc60c2c20/Autonomous-driving-Barcelona.jpg)\n",
    "\n",
    "**Carro autônomo identificando rotas e objetos em vias**\n",
    "\n",
    "Fonte: [https://wikipedia.com/](https://mashable.com/)\n",
    "\n",
    "Por outro lado, o efeito disso sobre toda a cadeia de negócios voltadas para os automóveis tradicionais pode ser afetada, com inviabilidade de empresas já estabelecidas e perda de empregos. Isso se torna ainda mais severo a se considerar a grande quantidade de pessoas que atualmente dependem de trabalhos como motoristas por aplicativos e que podem deixar de ter seu emprego.\n",
    "\n",
    "A infraestrutura viária pode ser afetada. Para manutenção da segurança e garantia da fluidez do trânsito, não seria estranho pensar que não só os automóveis deverão manter ativa obtenção de informações do entorno para decisões de trajetos e comportamento em situações de perigo de atropelamento ou de colisão. Nesses casos, é possível se vislumbrar que a própria infraestrutura viária possa ser dotada de mecanismos para envio de sinais aos automóveis autônomos, com protocolos locais para soluções de eventuais problemas, como ordem de precedência para saída de engarrafamentos, ou abertura de espaço para veículos de resgate.\n",
    "\n",
    "## **O Planejamento e a Gestão Urbana na Era dos Dados**\n",
    "\n",
    "A comunicação entre o automóvel autônomo e as vias públicas formam um exemplo de  mudança que pode ser antevista na cidade, a formação de áreas urbanas em que o fluxo automatizado de informações trazem uma experiência de interatividade digital no própria infraestrutura urbana. Alguns chamam isso de **Smart Cities**, ou **Cidades Inteligentes**. Em que pese o conteúdo de *marketing* nessa conceituação, que não necessariamente implica uma efetiva criação de cidade capaz de dar encaminhamento a diversos desafios socio-espaciais urbanos, parece bastante provável que a cidade terá, crescentemente, aportes técnicos que apresentam maior grau de responsividade com os citadinos.\n",
    "\n",
    "Essa cidade responsiva deve exigir dos planejadores e gestores urbanos uma capacidade de compreensão bastante célere, pautada nessa profusão de dados. Para tanto, a fim de que a gestão urbana não submerja nessa onda de dados, é importante que os times de gestão estejam preparados para lidar com essa nova etapa.\n",
    "\n",
    "Isso se faz por uma maior proficiência em trabalhos com dados. Os profissionais da gestão urbana precisar se capacitar para obter, tratar, analisar, modelar e divulgar dados.  Em fato, esse fluxo de trabalho não é novidade para qualquer equipe do planejamento e da gestão urbana. O que se coloca, no entanto, é uma premente necessidade de modernização das técnicas e recursos envolvidos em cada uma dessas etapas, de forma a garantir maior eficiência e resultados com melhorias mensuráveis na qualidade de vida nas cidades."
   ]
  },
  {
   "cell_type": "code",
   "execution_count": null,
   "metadata": {},
   "outputs": [],
   "source": []
  }
 ],
 "metadata": {
  "kernelspec": {
   "display_name": "innovation_panel",
   "language": "python",
   "name": "innovation_panel"
  },
  "language_info": {
   "codemirror_mode": {
    "name": "ipython",
    "version": 3
   },
   "file_extension": ".py",
   "mimetype": "text/x-python",
   "name": "python",
   "nbconvert_exporter": "python",
   "pygments_lexer": "ipython3",
   "version": "3.6.10"
  }
 },
 "nbformat": 4,
 "nbformat_minor": 4
}
