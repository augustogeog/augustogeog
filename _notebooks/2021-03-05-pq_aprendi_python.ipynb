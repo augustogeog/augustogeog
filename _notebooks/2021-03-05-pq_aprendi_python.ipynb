{
 "cells": [
  {
   "cell_type": "markdown",
   "id": "architectural-friday",
   "metadata": {},
   "source": [
    "# \"Por que Aprendi a Operar Ferramentas de Ciência de Dados com Python\"\n",
    "> \"Ou: A história do pior analista de dados do mundo!\"\n",
    "\n",
    "- toc: true\n",
    "- branch: master\n",
    "- badges: false\n",
    "- comments: true\n",
    "- author: Augusto dos Santos Pereira\n",
    "- categories: [Ajudando o povo de humanas a contar miçangas com Python]"
   ]
  },
  {
   "cell_type": "markdown",
   "id": "southwest-somerset",
   "metadata": {},
   "source": [
    "## A Crise\n",
    "\n",
    "Após quatro anos de graduação, 2 de mestrado e quatro de doutorado, cheguei a um momento da minha carreira em que olhei para o espelho e pude resumir meu sentimento com uma breve expressão: \"mas que belo de um analista chinfrim!\". Eu me sentia como se fosse o pior analista do mundo.  \n",
    "\n",
    "Deixa eu explicar. Não é que eu tenha tido um resultado analítico decepcionante na minha tese. Ela até que recebeu elogios da banca. No entanto, o processo, esse foi muito penoso. É de se esperar que a experiência de um doutoramento seja estressante, sobretudo quando se tem que aliar os estudos com outro trabalho, como é comum no Brasil, diferentemente do que ocorre no ambiente acadêmico de países europeus e dos Estados Unidos, em que o doutorando é um contratado da universidade para exercer uma pesquisa. Ainda assim, restou um sentimento de desapontamento com a alarmante rotina para tratar elevados volumes de dados.\n",
    "\n",
    "As bases que utilizei, com microdados da Relação Anual de Informações Sociais, apresetam dados bastante interessantes sobre diversas condições dos trabalhadores em relações formais no Brasil. Dados sobre tipo de ocupação do trabalhador, classe de atividade econômica da empresa, porte da organização, escolaridade etc. foram muito importantes para estabelecer uma comparação nas condições de aprendizado para inovação nos espaços metropolitanos de Curitiba, Porto Alegre e Recife, conforme era meu objetivo. Porém, essa base de microdados é formada por um arquivo para cada unidade da federação para cada ano, desde a década de 1980. Um arquivo apresenta, em média, tamanho superior a 1Gb, com milhões de linhas, cada uma indicando um vínculo trabalhista.\n",
    "\n",
    "Para trabalhar com esse volume de dados, a principal ferramenta de meu uso, Excel, não dava conta. No entanto, em nenhum momento, na graduação, mestrado, ou durante o doutorado, eu fui apresentado a ferramentas avançadas de análise de dados com programação. De maneira geral, minhas soluções se baseavam principalmente em Excel. Em casos que automatizações e tratamentos de grandes volumes de dados foram necessários na minha vida profissional, usualmente ocorreu a participação de alguém nas equipes que tinha conhecimento de ferramentas, restando a mim desenhar a metodologia a ser aplicada. A essa altura, eu não imaginava que, ao longo do período do doutoramento eu seria capaz de aprender a utilizar esse tipo de ferramenta em tempo. Meu desconhecimento era tal, que sequer fazer uma plano de estudos parecia inviável. No fim, fiz uma série de bancos de dados em Access, que foram consultados por Excel. Só elaborar a base, demorou um mês. Cada consulta, demorava o tempo de eu ir tomar um café e voltar. \n",
    "\n",
    "## Um Momento de Inflexão\n",
    "\n",
    "Com o canudo na mão, eu decidi não fazer mais pesquisas sobre o tema, enquanto não fosse capaz de automatizar minhas atividades de pesquisa por meio de programação. Por uma dessas providências, em um feriado, o YouTube me fez dessas sugestões que pouco têm a ver com nossas últimas pesquisas, uma [palestra sobre ecossistema Python para Data Science](https://www.youtube.com/watch?v=EBgUiuFXE3E). Aquilo pareceu um pouco críptico, mas ainda assim forneceu pistas de que aprendizado de Python pudesse ser um passo na direção de maior proficiência no trabalho com dados. Python ainda pareceu uma boa escolha, também por que eu já sabia que ferramentas que eu utilizava em sistemas de informação geográfica, como ArcGIS e QGIS podem ser automatizadas com Python. Assim, nesse mesmo feriado eu encontrei um [tutorial](https://www.youtube.com/watch?v=_uQrJ0TkZlc) de 6 horas sobre a linguagem, que eu consumi avidamente,\n",
    "\n",
    "De imediato já saí programando. Entendi tudo. Certo? Errado! De maneira geral, as instruções eram bastante didáticas,o que me deu a sensação de que aprender a programar era um projeto viável. O problema era um sentimento profundo de falta de base. Tanto nesse como em outros tutoriais e cursos, por vezes aparecia uma telinha preta e alguém mandava fazer simplesmente digitar pip install. Ok, pip install. Sei digitar. Mas que raios de telinha preta é aquela. Por vezes, o tutorial pedia para fazer um clone de um repositório no GitHub, ou apontava para uma discussão no StackOverFlow. Por essas e outras, eu via que existia uma série de informações que eu ainda precisaria entender para poder utilizar Python para análise.\n",
    "\n",
    "Mesmo em meio a tantas dúvidas, entrei em uma rotina frenética de estudos. Acompanhei tutoriais, comprei cursos, baixei [QPython 3L](https://play.google.com/store/apps/details?id=org.qpython.qpy3&hl=pt_BR) para programar no celular, enquanto estava no ônibus, fiz a rota do [SoloLearn](https://play.google.com/store/apps/details?id=com.sololearn&hl=pt_BR&gl=US), também no celular. Ao fim de três meses, foi possível entender, sem grande aprofundamento, algumas coisas fundamentais: Tipos básicos de objetos, variáveis, operadores, funções, métodos, classes, estruturas de repetição, estruturas condicionais, pacotes etc.\n",
    "\n",
    "Após três meses vendo e revendo aspectos básicos de Python , eu passei a me dedicar a aprender Pandas, Matplotlib e Jupyter Notebooks. Assim, no quarto mês do meus estudos, consegui fazer meu primeiro _script_ no trabalho. Automatizei uma série de análises populacionais que constantemente eu tinha que elaborar para consultorias em planejamento urbano e regional. Em cada contrato, as análises eram sempre muito semelhantes, contando com os mesmos gráficos e mapas. Com isso, fiz um notebook que, a partir de um código de município fornecido pelo operador, elabora uma série de tabelas e gráficos a serem utilizados em relatórios para planos diretores.\n",
    "\n",
    "## Colhendo Frutos\n",
    "\n",
    "O caráter prático dos estudos têm trazido um efeito bastante positivo no trabalho, uma vez que a aplicação é a tônica. Aprender a programar é, sobretudo, criar algo. Para pessoas que, como eu, sentem prazer em estudar, por vezes o estudo pode ser algo satisfatório em si mesmo. Lê-se pelo prazer da leitura. Não lembro quantas vezes parei para estudar áreas que não terão aplicação profissional prática para mim, só pelo prazer de saber essas coisas interessantes - astronomia, por exemplo. Na programação, no entanto, eu preciso produzir um programa. É esse o foco. Isso tem me ajudado a ter uma maior proclividade para produzir. Afinal, é preciso se reconhecer que, parte significativa do prestígio e dos retornos financeiros decorrem muito mais daquilo que produzimos, do que daquila conhecimento que armazenamos.\n",
    "\n",
    "Desde o início da jornada, foram milhares de horas dedicadas tanto ao aprendizado como à aplicação da linguagem Python aos meus trabalhos. Posso reconhecer que minha capacidade analítica foi incrivelmente afetada. Para a produção dos meus relatórios técnicos, o fluxo de trabalho de obtenção, tratamento, análise de dados e divulgação de informações se tornou muito mais dinâmico. Agora estou trabalhando em criar webapps interativos, em que o usuário possa manipular dados que acompanharão artigos acadêmicos que pretendo publicar. O primeiro exercício desse tipo ocorreu em um [texto sobre a difusão territorial da Covid19](http://www.seer.ufu.br/index.php/hygeia/article/view/55064) para a **Revista Brasileira de Geografia da Saúde**. \n",
    "\n",
    "\n",
    "\n",
    "Ah, o mais importante! O fluxo de trabalho da minha tese que levou meses eu refiz em duas semanas! Acho que já não sou mais o pior analista do mundo foi embora.\n",
    "\n",
    "\n",
    "{% include info.html text=\"Nos próximos posts dessa série, pretendo dar dicas de estudo para aqueles que se interessarem em aumentar sua capacidade analítica a partir de programação em Python\" %}"
   ]
  }
 ],
 "metadata": {
  "kernelspec": {
   "display_name": "scikit",
   "language": "python",
   "name": "scikit"
  },
  "language_info": {
   "codemirror_mode": {
    "name": "ipython",
    "version": 3
   },
   "file_extension": ".py",
   "mimetype": "text/x-python",
   "name": "python",
   "nbconvert_exporter": "python",
   "pygments_lexer": "ipython3",
   "version": "3.8.5"
  }
 },
 "nbformat": 4,
 "nbformat_minor": 5
}
