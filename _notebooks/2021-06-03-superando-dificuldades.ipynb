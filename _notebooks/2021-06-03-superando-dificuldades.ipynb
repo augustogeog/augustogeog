{
 "cells": [
  {
   "cell_type": "markdown",
   "id": "brilliant-demand",
   "metadata": {},
   "source": [
    "# \"Como Aprender Python para Ciência de Dados\"\n",
    "> \"Ou: ajudando a galera de humanas a fazer mandala com Python!\"\n",
    "\n",
    "- toc: true\n",
    "- branch: master\n",
    "- badges: false\n",
    "- comments: true\n",
    "- author: Augusto dos Santos Pereira\n",
    "- categories: [Ajudando o povo de humanas a contar miçangas com Python]"
   ]
  },
  {
   "cell_type": "markdown",
   "id": "regional-world",
   "metadata": {},
   "source": [
    "## Eu Sou de Humanas\n",
    "\n",
    "\"Eu sou de humanas\". Essa afirmativa, hoje em dia, é quase que como uma imediata confissão de predileção por estudo de temas sociais com base em abordagens qualitativas e, ainda, uma certa inaptidão para entendimento de matemática e de outras matérias exatas ou tecnológicas, como a Ciência da Computação. Embora a as coisas não sejam bem assim, e diversas Ciências Humamas tenham tido grande ênfase em metodologias quantitativas ao longodo último século e meio, o fato é que hoje, no Brasil, parece haver menor ênfase acadêmica nessas abordagens por parte de algumas disciplinas, como a Geografia e a Sociologia. \n",
    "\n",
    "Particularmente na minha vida acadêmica, eu sou de humanas. Confesso. Tenho grande dificuldade para o aprendizado de temas das ciências exatas e tecnológicas. A mim, parece menos algo inato, do que uma quase ausência desses temas ao longo da minha graduação, mestrado e doutorado. Como resultado prático, quando observo meu ritmo de aprendizado de programação em Python para Ciência de Dados, percebo uma sensível diferença em relação a colegas das exatas com os quais convivo. Falta, da minha parte, uma base.\n",
    "\n",
    "Por essa razão, agora que avancei na aplicação das ferramentas de DS no meu trabalho e tenho podido observar os ganhos analíticos, a capacidade de reproducibilidade das pesquisas, a automação dos processos e os ganhos de escala, gostaria de contribuir com aqueles que, hoje, estão em situação na qual me encontre há tempos atrás, tentando angariar conhecimento sobre programação em Python, mas com insegurança e receio de não ser capaz de avançar. Por essa razão, adiante vão algumas breves considerações para auxiliar no processo de aprendizado dessas ferramentas.\n",
    "\n",
    "{% include alert.html text=\"Mesmo que você não seja do nosso time, de humanas, mas se sente nessa condição de problemas de aprendizado de programação, se você vê vultos, ouve vozes... leia o restante da postagem, que é para sua libertação!\" %}\n",
    "\n",
    "\n",
    "## Por quê estudar Python para DS?\n",
    "\n",
    "Aprender a programar é dessas coisas que podem ser bastante prazerosas. Ao se pegar as nuances da programação, a resolução de um quebra-cabeça posto por um determinado problema computacional pode ser um grande motivador para os estudos e para a prática quotidiana. No entanto, se esse é isso que te move quotidianamente, essa postagem dificilmente é para você e você possivelmente já faz parte de algum curso de Engenharia da Computação. Por outro lado, se você não tem esse _drive_, então você precisa ter clareza da razão pela qual aprender ferramentas de Ciências de Dados com Python pode te ajudar.\n",
    "\n",
    "\n",
    "No meu caso, eu quero planejar cidades. Esse é o meu _drive_. Nesse sentido, eu preciso obter, tratar e analisar dados referentes concentrações populacionais, para fazer um zoneamento que adeque as densidades ao suporte ambiental e às infraestruturas; preciso compreender os dados sobre movimentos pendulares para saber quais áreas precisam de maiores políticas de integração; devo verificar dados sobre áreas de risco, para poder propor restrições de ocupação. Essas questões podem se somar a muitas outras do meu quotidiano profissional. É a partir dessa clareza de questões que aprender Python para Ciência de Dados é relevante para minha carreira, ofício e projetos.\n",
    "\n",
    "E você? Qual o seu propósito profissional ou acadêmico? Como a Python para Ciência de Dados pode te ajudar? Se você souber isso, vai conseguir manter o foco e crescer como analista.\n",
    "\n",
    "## Como estudar Python para DS?\n",
    "\n",
    "Como aprender algo é o tipo de questão que deve ser bastante adaptada a cada indivíduo. Diversas são as orientações que diferentes fontes podem dar sobre o assunto. Na comunidade de Ciência de Dados, no entanto, a mais comum parece ser aquela de aprender fazendo. É preciso colocar a mão na massa. Todo o dia, é preciso programar, mesmo que seja um pouco. Outra recomendação comum é que haja prularidade de métodos. Livros, tutoriais, cursos, prática etc. Eu particularmente sou adepto dessa corrente. Eu escolho um tópico e bombardeio meu cérebro com informações. Se vou aprender a tratar dados com Pandas, assisto palestra no YouTube sobre assunto, leio a documentação do pacote, faço cursos com exercícios, exploro a ferramenta e coloco no meu plano de trabalho profissional as atividades que se refiram a isso.\n",
    "\n",
    "Uma das coisas que funcionam comigo é buscar um balanço entre visão geral e aprofundamento. Eu primeiramente me dedico a ter uma visão ampla e pouco aprofundada de um tópico, para depois decidir aqueles elementos aos quais vou me dedicar mais.\n",
    "\n",
    "Outra coisa importante. Faça um plano de estudos. Pode gastar um tempo nisso. Fazer um plano de estudo é uma atividade que toma tempo, mas que economiza muito esforço ao longo do caminho.\n",
    "\n",
    "## Quando estudar Python para DS?\n",
    "\n",
    "Aqui a coisa é bastante simples. Estude o máximo que puder até ter uma boa base. Escute podcasts sobre o assunto, enquanto estiver dirigindo. Leia livro enquanto estiver no ônibus. Em filas longas, leve o se celular com ferramentas como o [SoloLearn](https://play.google.com/store/apps/details?id=com.sololearn&hl=pt_BR&gl=US) e faça exercícios. Porém, o mais importante já foi dito: tem que programar com a maior frequência possível.\n",
    "\n",
    "## Onde estudar Python para DS?\n",
    "\n",
    "Se você é muito iniciante. Tem medo até do mouse. O curso do [Gustavo Guanabara](https://www.youtube.com/playlist?list=PLvE-ZAFRgX8hnECDn1v9HNTI71veL3oW0) é para você. Quando se adiquire um pouco mais de musculatura em programação básica de Python, pode-se passar a aprender os pacotes para Ciência de Dados. Na Udemy é difícil achar cursos bons em Português. Em Inglês, a Udemy tem o [curso do José Portilla](https://www.udemy.com/course/python-for-data-science-and-machine-learning-bootcamp/), que dá uma boa visão geral. Particularmente, gosto muito dos cursos disponíveis nas plataformas [Coursera](https://pt.coursera.org/) e [edx](https://www.edx.org/), com aulas gravadas em grandes universidades de renome global e nacional, com muitas opções em Português.\n",
    "\n",
    "{% include info.html text=\"Siga acompanhando as postagens deste blog, pois vou tentar contribuir com os estudos, trazendo abordagens bastante didáticas sobre os elementos básicos de Python para Data Science.\" %}"
   ]
  }
 ],
 "metadata": {
  "kernelspec": {
   "display_name": "scikit",
   "language": "python",
   "name": "scikit"
  },
  "language_info": {
   "codemirror_mode": {
    "name": "ipython",
    "version": 3
   },
   "file_extension": ".py",
   "mimetype": "text/x-python",
   "name": "python",
   "nbconvert_exporter": "python",
   "pygments_lexer": "ipython3",
   "version": "3.8.5"
  }
 },
 "nbformat": 4,
 "nbformat_minor": 5
}
