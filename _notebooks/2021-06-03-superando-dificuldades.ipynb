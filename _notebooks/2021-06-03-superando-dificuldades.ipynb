{
 "cells": [
  {
   "cell_type": "markdown",
   "id": "vocal-round",
   "metadata": {},
   "source": [
    "# \"Como Aprender Python para Ciência de Dados\"\n",
    "> \"Ou: ajudando a galera de humanas a fazer mandala com Python!\"\n",
    "\n",
    "- toc: true\n",
    "- branch: master\n",
    "- badges: false\n",
    "- comments: true\n",
    "- author: Augusto dos Santos Pereira\n",
    "- categories: [Ajudando o povo de humanas a contar miçangas com Python]"
   ]
  },
  {
   "cell_type": "markdown",
   "id": "modified-token",
   "metadata": {},
   "source": [
    "## Eu Sou de Humanas\n",
    "\n",
    "\"Eu sou de humanas\". Essa afirmativa, hoje em dia, é quase que como uma imediata confissão de predileção por estudo de temas sociais com base em abordagens qualitativas e, ainda, uma certa inaptidão para entendimento de matemática e de outras matérias exatas ou tecnológicas, como a Ciência da Computação. Embora a as coisas não sejam bem assim, e diversas Ciências Humamas tenham tido grande ênfase em metodologias quantitativas ao longodo último século e meio, o fato é que hoje, no Brasil, parece haver menor ênfase acadêmica nessas abordagens por parte de algumas disciplinas, como a Geografia e a Sociologia. \n",
    "\n",
    "Particularmente na minha vida acadêmica, eu sou de humanas. Confesso. Tenho grande dificuldade para o aprendizado de temas das ciências exatas e tecnológicas. A mim, parece menos algo inato, do que uma quase ausência desses temas ao longo da minha graduação, mestrado e doutorado. Como resultado prático, quando observo meu ritmo de aprendizado de programação em Python para Ciência de Dados, percebo uma sensível diferença em relação a colegas das exatas com os quais convivo. Falta, da minha parte, uma base.\n",
    "\n",
    "Por essa razão, agora que avancei na aplicação das ferramentas de DS no meu trabalho e tenho podido observar os ganhos analíticos, a capacidade de reproducibilidade das pesquisas, a automação dos processos e os ganhos de escala, gostaria de contribuir com aqueles que, hoje, estão em situação na qual me encontre há tempos atrás, tentando angariar conhecimento sobre programação em Python, mas com insegurança e receio de não ser capaz de avançar. Por essa razão, adiante vão algumas breves considerações para auxiliar no processo de\n",
    "\n",
    "{% include alert.html text=\"Mesmo que você não seja do nosso time, de humanas, mas se sente nessa condição de problemas de aprendizado de programação, se você vê vultos, ouve vozes... leia o restante da postagem, que é para sua libertação!\" %}\n",
    "\n",
    "\n",
    "\n",
    "## \n",
    "\n",
    "Ocorre que, na prática, na minha vida, ocorre que cheguei ao fim do doutorado em Geografia com alguma capacidade analítica até reconhecida e remunerada como tal, mas com limitações severas, que impediam reproducibilidade, automação e ganhos de escala. \n",
    "\n",
    "\n",
    "\n",
    "\n",
    ". No \n",
    "o reconhecimento do efeito dos astros sobre a atitude das pessoas. Se sou de humanas, é como ser de algum signo, que determinaria minhas características. No caso, por ser de humanas, sou ruim em matemática e em outras matérias exatas ou tecnológicas, como a Ciência da Computação.\n",
    "\n",
    "\n",
    "\n",
    "\n",
    "Esta postagem é a primeira de uma série que está no forno há algum tempo, com o objetivo de ajudar aqueles que tenho planejado e que dQuero começar com esse post, uma série de publicações voltadas para ajudar aqueles que estão iniciando sua jornada em análise de dados com Python"
   ]
  },
  {
   "cell_type": "markdown",
   "id": "chief-deputy",
   "metadata": {},
   "source": [
    "## Uma História de Análise de Dados sem Linguagens de Programação\n",
    "\n",
    "O trabalho com dados tem sido uma constante na minha vida há bastante tempo. Em um escritório de advocácia na Paulista, em 2004, eu fazia parte da equipe de logística - sim, você leu certo, logística em um escritório de advogados. A empresa recebia milhares de processos diariamente de clientes, que eram basicamente grandes empresas do setor financeiro e, principalmente, de telecomunicações. Daí a logística. Tínhamos que manter milhares de advogados contratados, em diferentes comarcas, munidos com os documentos certos, dentro dos prazos, para que pudessem participar das audiências e protocolar manifestações nos processos. \n",
    "\n",
    "Nessa época, muita da gestão do trabalho era feita em Excel. Foi amor desde o primeiro ProcV e uma relação bastante efervecente, já na primeira _pivot table_. Já nessa época, comecei a me deparar com quetões muito básicas sobre obtenção, tratamento de dados e elaboração de produtos analíticos, como gráficos. Foi uma experiência que serviu para sedimentar alguns conhecimentos que obtive no módulo de estatística do curso de administração da Escola Técnia Estadual Camargo Aranha, em São Paulo.\n",
    "\n",
    "Em 2006, já residente em Curitiba, fui admitido em concurso do Instituto Brasileiro de Geografia e Estatística - IBGE. Na instituição, meu contato com dados se tornou crescentemente mais intenso. Embora eu tenha me dedicado muito à rotina de obtenção primária dos dados, com contato a empresas para envio de questionários sobre atividades econômicas, ou à coordenação de equipes para coleta dos mais diversos tipos de pesquisas - saúde, educação, população etc. -, aproveitei a oportunidade para conhecer as bases de divulgação de dados da instituição e, mesmo que não fosse parte das minhas atribuições, fiz inúmeras tabulações de dados que eu utilizei no quotidiano do planejamento de trabalhos, ou mesmo para divulgação usuários.\n",
    "\n",
    "ATENÇÃO! vale a pena buscar as bases do IBGE, são riquícimas e um ótimo ponto de partida para entendimento das informações sobre condições econômicas e sociais do país. \n",
    "\n",
    "Ainda sem estar formado, tive uma oportunidade como consultor para elaborar um banco de dados\n",
    "\n",
    "2006 foi também o ano do meu ingresso na graduação em Geografia da UFPR"
   ]
  }
 ],
 "metadata": {
  "kernelspec": {
   "display_name": "scikit",
   "language": "python",
   "name": "scikit"
  },
  "language_info": {
   "codemirror_mode": {
    "name": "ipython",
    "version": 3
   },
   "file_extension": ".py",
   "mimetype": "text/x-python",
   "name": "python",
   "nbconvert_exporter": "python",
   "pygments_lexer": "ipython3",
   "version": "3.8.5"
  }
 },
 "nbformat": 4,
 "nbformat_minor": 5
}
